{
 "cells": [
  {
   "attachments": {},
   "cell_type": "markdown",
   "id": "123456",
   "metadata": {},
   "source": [
    "<div style=\"text-align:left;font-size:2em\"><span style=\"font-weight:bolder;font-size:1.25em\">SP2273 | Learning Portfolio</span><br><br><span style=\"font-weight:bold;color:darkred\">Using Jupyter (Need), Exercises</span></div>"
   ]
  },
  {
   "attachments": {},
   "cell_type": "markdown",
   "id": "e857aaa4",
   "metadata": {},
   "source": [
    "## Quadratic Equations"
   ]
  },
  {
   "attachments": {},
   "cell_type": "markdown",
   "id": "bc07e346",
   "metadata": {},
   "source": [
    "### Introduction"
   ]
  },
  {
   "cell_type": "code",
   "execution_count": 1,
   "id": "21d02ad6",
   "metadata": {},
   "outputs": [
    {
     "name": "stdout",
     "output_type": "stream",
     "text": [
      "Hello World!\n"
     ]
    }
   ],
   "source": [
    "\n",
    "print('Hello World!')\n"
   ]
  },
  {
   "cell_type": "markdown",
   "id": "566616f5-53c3-43e2-ae74-be25a055cf1d",
   "metadata": {},
   "source": [
    "***The ships hung in the sky in much the same way that bricks don’t.***"
   ]
  },
  {
   "cell_type": "markdown",
   "id": "5760ee3e-cd17-477a-9762-e6d0dac06cbb",
   "metadata": {},
   "source": [
    "The ships *hung in the sky* in much the same way that **bricks don’t**.<sup>1</sup><sub>Quote</sub>"
   ]
  },
  {
   "cell_type": "markdown",
   "id": "cc73ad88-726b-4b19-8a4b-35839ce8e364",
   "metadata": {},
   "source": [
    "# Markdown 1"
   ]
  },
  {
   "cell_type": "markdown",
   "id": "ab74d161-0f6c-4914-91ae-68dbbbb08f4b",
   "metadata": {},
   "source": [
    "## Markdown 2"
   ]
  },
  {
   "cell_type": "markdown",
   "id": "871948e6-ea06-4acc-b7d8-da69cdee3b43",
   "metadata": {},
   "source": [
    "### Markdown 3"
   ]
  },
  {
   "cell_type": "markdown",
   "id": "71bb9b1a-692f-4ad9-90be-c66de76e1713",
   "metadata": {},
   "source": [
    "#### Markdown 4"
   ]
  },
  {
   "cell_type": "markdown",
   "id": "d56b2dca-41bb-4122-9310-9bd6e43fe99a",
   "metadata": {},
   "source": [
    "`print (Hello World!)`"
   ]
  },
  {
   "cell_type": "markdown",
   "id": "74b8d695-6d0b-42e8-a5c7-81ecddd4f427",
   "metadata": {},
   "source": [
    "```python\r\n",
    "print('Hello World!')\r\n",
    "```"
   ]
  },
  {
   "cell_type": "markdown",
   "id": "e269c5d3-6617-41f5-9ab4-9500795c2a2e",
   "metadata": {},
   "source": [
    "[SP2273 Website](https://sps.nus.edu.sg/sp2273)"
   ]
  },
  {
   "cell_type": "markdown",
   "id": "1428ea8b-9d05-4847-88de-a66e38101536",
   "metadata": {},
   "source": [
    "![](https://st.depositphotos.com/1001911/1222/v/450/depositphotos_12221489-stock-illustration-big-smile-emoticon.jpg)"
   ]
  },
  {
   "cell_type": "markdown",
   "id": "ba125158-2a50-4420-83e7-619f1fd454f4",
   "metadata": {},
   "source": [
    "![Happy face](https://st.depositphotos.com/1001911/1222/v/450/depositphotos_12221489-stock-illustration-big-smile-emoticon.jpg)"
   ]
  },
  {
   "cell_type": "markdown",
   "id": "8861d817-83d1-4d6f-b16c-f78cf5acd4b7",
   "metadata": {},
   "source": [
    "| A    |  B   |    C |\n",
    "| :--- | :--: | ---: |\n",
    "| a1   |  b1  |   c1 |\n",
    "| a2   |  b2  |   c2 |\n",
    "| a3   |  b3  |   c3 |"
   ]
  },
  {
   "cell_type": "markdown",
   "id": "26cfc807-5260-4fcf-9493-4bae7231a5a4",
   "metadata": {},
   "source": [
    "| test | test |\r\n",
    "|-----:|-----:|\r\n",
    "|    a |    b |\r\n",
    "|    x |    y |\r\n",
    "|    a |    b |"
   ]
  },
  {
   "attachments": {},
   "cell_type": "markdown",
   "id": "a6293a54",
   "metadata": {},
   "source": [
    "### Solutions"
   ]
  },
  {
   "cell_type": "code",
   "execution_count": null,
   "id": "8d1c3f89",
   "metadata": {},
   "outputs": [],
   "source": [
    "\n",
    "# Your code here\n"
   ]
  },
  {
   "attachments": {},
   "cell_type": "markdown",
   "id": "37b764a8",
   "metadata": {},
   "source": [
    "### Discriminant"
   ]
  },
  {
   "cell_type": "code",
   "execution_count": null,
   "id": "50787ab3",
   "metadata": {},
   "outputs": [],
   "source": [
    "\n",
    "# Your code here\n"
   ]
  }
 ],
 "metadata": {
  "kernelspec": {
   "display_name": "Python 3 (ipykernel)",
   "language": "python",
   "name": "python3"
  },
  "language_info": {
   "codemirror_mode": {
    "name": "ipython",
    "version": 3
   },
   "file_extension": ".py",
   "mimetype": "text/x-python",
   "name": "python",
   "nbconvert_exporter": "python",
   "pygments_lexer": "ipython3",
   "version": "3.11.5"
  },
  "toc": {
   "base_numbering": 1,
   "nav_menu": {},
   "number_sections": true,
   "sideBar": true,
   "skip_h1_title": false,
   "title_cell": "Table of Contents",
   "title_sidebar": "Contents",
   "toc_cell": false,
   "toc_position": {},
   "toc_section_display": true,
   "toc_window_display": false
  },
  "vscode": {
   "interpreter": {
    "hash": "31f2aee4e71d21fbe5cf8b01ff0e069b9275f58929596ceb00d14d90e3e16cd6"
   }
  }
 },
 "nbformat": 4,
 "nbformat_minor": 5
}
