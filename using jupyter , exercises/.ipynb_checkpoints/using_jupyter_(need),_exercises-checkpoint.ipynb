{
 "cells": [
  {
   "attachments": {},
   "cell_type": "markdown",
   "id": "123456",
   "metadata": {},
   "source": [
    "<div style=\"text-align:left;font-size:2em\"><span style=\"font-weight:bolder;font-size:1.25em\">SP2273 | Learning Portfolio</span><br><br><span style=\"font-weight:bold;color:darkred\">Using Jupyter (Need), Exercises</span></div>"
   ]
  },
  {
   "attachments": {},
   "cell_type": "markdown",
   "id": "e857aaa4",
   "metadata": {},
   "source": [
    "## Quadratic Equations"
   ]
  },
  {
   "attachments": {},
   "cell_type": "markdown",
   "id": "bc07e346",
   "metadata": {},
   "source": [
    "### Introduction"
   ]
  },
  {
   "cell_type": "markdown",
   "id": "bf48c73d-b8a6-4dec-a3e2-b241bdecea4a",
   "metadata": {},
   "source": [
    "![](https://upload.wikimedia.org/wikipedia/commons/thumb/f/f8/Polynomialdeg2.svg/800px-Polynomialdeg2.svg.png)\n"
   ]
  },
  {
   "cell_type": "markdown",
   "id": "566616f5-53c3-43e2-ae74-be25a055cf1d",
   "metadata": {},
   "source": [
    "*(Image from* [*Wikipedia page on Quadratic Equations*](https://en.wikipedia.org/wiki/Quadratic_equation)*)*"
   ]
  },
  {
   "cell_type": "markdown",
   "id": "5760ee3e-cd17-477a-9762-e6d0dac06cbb",
   "metadata": {},
   "source": [
    "The general form of the quadratic equation is:"
   ]
  },
  {
   "cell_type": "markdown",
   "id": "6960e288-720b-44f9-a377-b416518d92d5",
   "metadata": {},
   "source": [
    "$ax^2 + bx + c = 0$"
   ]
  },
  {
   "attachments": {},
   "cell_type": "markdown",
   "id": "a6293a54",
   "metadata": {},
   "source": [
    "### Solutions"
   ]
  },
  {
   "cell_type": "markdown",
   "id": "ab74d161-0f6c-4914-91ae-68dbbbb08f4b",
   "metadata": {},
   "source": [
    "Provided $a \\neq 0$ we can use an elementary algebraic method called [completing the square](https://en.wikipedia.org/wiki/Completing_the_square) to show that a quadratic equation has the following solution:"
   ]
  },
  {
   "cell_type": "markdown",
   "id": "cc73ad88-726b-4b19-8a4b-35839ce8e364",
   "metadata": {},
   "source": [
    "$x= \\dfrac{-b \\pm \\sqrt{b^2-4ac}}{2a}$"
   ]
  },
  {
   "cell_type": "markdown",
   "id": "871948e6-ea06-4acc-b7d8-da69cdee3b43",
   "metadata": {},
   "source": [
    "### Discriminant"
   ]
  },
  {
   "cell_type": "markdown",
   "id": "71bb9b1a-692f-4ad9-90be-c66de76e1713",
   "metadata": {},
   "source": [
    "The quantity $ \\Delta = b^2 - 4ac$ is called the **discriminant** of the equation and decides the nature of its solutions. The table below shows the various possibilities."
   ]
  },
  {
   "cell_type": "markdown",
   "id": "e269c5d3-6617-41f5-9ab4-9500795c2a2e",
   "metadata": {},
   "source": [
    "|**Discriminant**             |**Roots**                               |\n",
    "|  :------------:             |  :-------------:                       |\n",
    "|$\\Delta = b^2 - 4ac = 0$     |A single solution of $ \\dfrac {-b}{2a}$ |\n",
    "|$\\Delta = b^2 - 4ac \\gt 0$   |Two distinct solutions                  |\n",
    "|$\\Delta = b^2 - 4ac \\lt 0$   |No real solutions; both are complex.    |"
   ]
  }
 ],
 "metadata": {
  "kernelspec": {
   "display_name": "Python 3 (ipykernel)",
   "language": "python",
   "name": "python3"
  },
  "language_info": {
   "codemirror_mode": {
    "name": "ipython",
    "version": 3
   },
   "file_extension": ".py",
   "mimetype": "text/x-python",
   "name": "python",
   "nbconvert_exporter": "python",
   "pygments_lexer": "ipython3",
   "version": "3.11.5"
  },
  "toc": {
   "base_numbering": 1,
   "nav_menu": {},
   "number_sections": true,
   "sideBar": true,
   "skip_h1_title": false,
   "title_cell": "Table of Contents",
   "title_sidebar": "Contents",
   "toc_cell": false,
   "toc_position": {},
   "toc_section_display": true,
   "toc_window_display": false
  },
  "vscode": {
   "interpreter": {
    "hash": "31f2aee4e71d21fbe5cf8b01ff0e069b9275f58929596ceb00d14d90e3e16cd6"
   }
  }
 },
 "nbformat": 4,
 "nbformat_minor": 5
}
