{
 "cells": [
  {
   "attachments": {},
   "cell_type": "markdown",
   "id": "123456",
   "metadata": {},
   "source": [
    "<div style=\"text-align:left;font-size:2em\"><span style=\"font-weight:bolder;font-size:1.25em\">SP2273 | Learning Portfolio</span><br><br><span style=\"font-weight:bold;color:darkred\">Functions (Good)</span></div>"
   ]
  },
  {
   "attachments": {},
   "cell_type": "markdown",
   "id": "e0bfd39a",
   "metadata": {},
   "source": [
    "# 1 Checks, balances, and contingencies"
   ]
  },
  {
   "attachments": {},
   "cell_type": "markdown",
   "id": "0b25703c",
   "metadata": {},
   "source": [
    "## 1.1 assert"
   ]
  },
  {
   "cell_type": "code",
   "execution_count": 5,
   "id": "357076c5-a438-4094-b093-9d2c1968998b",
   "metadata": {},
   "outputs": [],
   "source": [
    "x=-1"
   ]
  },
  {
   "cell_type": "code",
   "execution_count": 6,
   "id": "13278b53-fb9c-467e-b32a-42032abc030e",
   "metadata": {},
   "outputs": [
    {
     "ename": "AssertionError",
     "evalue": "x is becoming negative!",
     "output_type": "error",
     "traceback": [
      "\u001b[1;31m---------------------------------------------------------------------------\u001b[0m",
      "\u001b[1;31mAssertionError\u001b[0m                            Traceback (most recent call last)",
      "Cell \u001b[1;32mIn[6], line 1\u001b[0m\n\u001b[1;32m----> 1\u001b[0m \u001b[38;5;28;01massert\u001b[39;00m x\u001b[38;5;241m>\u001b[39m\u001b[38;5;241m=\u001b[39m\u001b[38;5;241m0\u001b[39m, \u001b[38;5;124m\"\u001b[39m\u001b[38;5;124mx is becoming negative!\u001b[39m\u001b[38;5;124m\"\u001b[39m\n",
      "\u001b[1;31mAssertionError\u001b[0m: x is becoming negative!"
     ]
    }
   ],
   "source": [
    "assert x>=0, \"x is becoming negative!\""
   ]
  },
  {
   "attachments": {},
   "cell_type": "markdown",
   "id": "23817b05",
   "metadata": {},
   "source": [
    "## 1.2 try-except"
   ]
  },
  {
   "cell_type": "code",
   "execution_count": 7,
   "id": "95ceb60b-b1cc-4f5e-8e48-1d2f3c6c9521",
   "metadata": {},
   "outputs": [
    {
     "name": "stdin",
     "output_type": "stream",
     "text": [
      "Give me a number and I will calculate its square. 6\n"
     ]
    },
    {
     "name": "stdout",
     "output_type": "stream",
     "text": [
      "The square of 6 is 36!\n"
     ]
    }
   ],
   "source": [
    "number=input(\"Give me a number and I will calculate its square.\")\n",
    "square=int(number)**2              # Convert English to number\n",
    "print(f'The square of {number} is {square}!')"
   ]
  },
  {
   "cell_type": "code",
   "execution_count": 8,
   "id": "e0f20e2c-3942-4bc0-83bc-54ceb5dbb743",
   "metadata": {},
   "outputs": [
    {
     "name": "stdin",
     "output_type": "stream",
     "text": [
      "Give me a number and I will calculate its square. haha\n"
     ]
    },
    {
     "name": "stdout",
     "output_type": "stream",
     "text": [
      "Oh oh! I cannot square haha!\n"
     ]
    }
   ],
   "source": [
    "try:\n",
    "    number=input(\"Give me a number and I will calculate its square.\")\n",
    "    square=int(number)**2\n",
    "    print(f'The square of {number} is {square}!')\n",
    "except:\n",
    "    print(f\"Oh oh! I cannot square {number}!\")"
   ]
  },
  {
   "attachments": {},
   "cell_type": "markdown",
   "id": "a0404139",
   "metadata": {},
   "source": [
    "# 2 Some loose ends"
   ]
  },
  {
   "attachments": {},
   "cell_type": "markdown",
   "id": "5d0854dc",
   "metadata": {},
   "source": [
    "## 2.1 Positional, keyword and default arguments"
   ]
  },
  {
   "cell_type": "code",
   "execution_count": 9,
   "id": "5884d53c-010c-431e-951f-fa54f9c60026",
   "metadata": {},
   "outputs": [],
   "source": [
    "def side_by_side(a, b, c=42):\n",
    "    return f'{a: 2d}|{b: 2d}|{c: 2d}'"
   ]
  },
  {
   "cell_type": "code",
   "execution_count": 11,
   "id": "1d5d1e4f-5119-4bf9-993b-bd9811930fc0",
   "metadata": {},
   "outputs": [
    {
     "data": {
      "text/plain": [
       "' 9| 2| 17'"
      ]
     },
     "execution_count": 11,
     "metadata": {},
     "output_type": "execute_result"
    }
   ],
   "source": [
    "side_by_side(9, 2, 17)"
   ]
  },
  {
   "cell_type": "code",
   "execution_count": 16,
   "id": "77755e85-d42e-4877-94ea-45866120b069",
   "metadata": {},
   "outputs": [
    {
     "data": {
      "text/plain": [
       "' 65| 29| 104'"
      ]
     },
     "execution_count": 16,
     "metadata": {},
     "output_type": "execute_result"
    }
   ],
   "source": [
    "side_by_side(c=104, b=29, a=65)"
   ]
  },
  {
   "cell_type": "code",
   "execution_count": 17,
   "id": "f6240c1c-2cf8-473c-89ce-8fe730009093",
   "metadata": {},
   "outputs": [
    {
     "data": {
      "text/plain": [
       "' 1| 2| 42'"
      ]
     },
     "execution_count": 17,
     "metadata": {},
     "output_type": "execute_result"
    }
   ],
   "source": [
    "side_by_side(1, b=2)"
   ]
  },
  {
   "cell_type": "code",
   "execution_count": 18,
   "id": "84364d1c-5599-4255-86ee-a23b82b49eeb",
   "metadata": {},
   "outputs": [
    {
     "ename": "SyntaxError",
     "evalue": "positional argument follows keyword argument (3855048630.py, line 3)",
     "output_type": "error",
     "traceback": [
      "\u001b[1;36m  Cell \u001b[1;32mIn[18], line 3\u001b[1;36m\u001b[0m\n\u001b[1;33m    side_by_side(a=2, 1)      # Won't work.\u001b[0m\n\u001b[1;37m                       ^\u001b[0m\n\u001b[1;31mSyntaxError\u001b[0m\u001b[1;31m:\u001b[0m positional argument follows keyword argument\n"
     ]
    }
   ],
   "source": [
    "# Keywords cannot be followed \n",
    "# by positional arguments\n",
    "side_by_side(a=2, 1)      # Won't work.                          "
   ]
  },
  {
   "cell_type": "code",
   "execution_count": 4,
   "id": "7c3af892-9587-4b43-82ce-21f5f6cfa5ad",
   "metadata": {},
   "outputs": [],
   "source": [
    "def side_by_side(a, b, c):\n",
    "    return f'{a: 2d}|{b: 2d}|{c: 2d}'\n",
    "#Trial to understand concept better"
   ]
  },
  {
   "cell_type": "code",
   "execution_count": 2,
   "id": "2390986a-52ed-4d00-b069-c96284b9841a",
   "metadata": {},
   "outputs": [
    {
     "data": {
      "text/plain": [
       "' 1| 2| 42'"
      ]
     },
     "execution_count": 2,
     "metadata": {},
     "output_type": "execute_result"
    }
   ],
   "source": [
    "side_by_side(1, 2)"
   ]
  },
  {
   "cell_type": "code",
   "execution_count": 5,
   "id": "5aa08808-91fb-420e-8e11-56da81e310af",
   "metadata": {},
   "outputs": [
    {
     "ename": "TypeError",
     "evalue": "side_by_side() missing 1 required positional argument: 'c'",
     "output_type": "error",
     "traceback": [
      "\u001b[1;31m---------------------------------------------------------------------------\u001b[0m",
      "\u001b[1;31mTypeError\u001b[0m                                 Traceback (most recent call last)",
      "Cell \u001b[1;32mIn[5], line 1\u001b[0m\n\u001b[1;32m----> 1\u001b[0m \u001b[43mside_by_side\u001b[49m\u001b[43m(\u001b[49m\u001b[38;5;241;43m1\u001b[39;49m\u001b[43m,\u001b[49m\u001b[43m \u001b[49m\u001b[38;5;241;43m2\u001b[39;49m\u001b[43m)\u001b[49m\n",
      "\u001b[1;31mTypeError\u001b[0m: side_by_side() missing 1 required positional argument: 'c'"
     ]
    }
   ],
   "source": [
    "side_by_side(1, 2)"
   ]
  },
  {
   "cell_type": "code",
   "execution_count": 6,
   "id": "02e68be7-9cd8-42fa-9e5b-6ee0322ee2b3",
   "metadata": {},
   "outputs": [
    {
     "data": {
      "text/plain": [
       "' 1| 2| 3'"
      ]
     },
     "execution_count": 6,
     "metadata": {},
     "output_type": "execute_result"
    }
   ],
   "source": [
    "side_by_side(1, 2, 3) "
   ]
  },
  {
   "attachments": {},
   "cell_type": "markdown",
   "id": "60768927",
   "metadata": {},
   "source": [
    "## 2.2 Docstrings"
   ]
  },
  {
   "cell_type": "code",
   "execution_count": 1,
   "id": "84977cff-f27f-43df-bfb5-679ec5b88da6",
   "metadata": {},
   "outputs": [],
   "source": [
    "def side_by_side(a, b, c=42):\n",
    "    return f'{a: 2d}|{b: 2d}|{c: 2d}'"
   ]
  },
  {
   "cell_type": "code",
   "execution_count": 20,
   "id": "b3866310-4a3e-4203-9c67-5466733303d8",
   "metadata": {},
   "outputs": [
    {
     "name": "stdout",
     "output_type": "stream",
     "text": [
      "Help on function side_by_side in module __main__:\n",
      "\n",
      "side_by_side(a, b, c=42)\n",
      "\n"
     ]
    }
   ],
   "source": [
    "help(side_by_side)"
   ]
  },
  {
   "attachments": {},
   "cell_type": "markdown",
   "id": "ff04a009",
   "metadata": {},
   "source": [
    "## 2.3 Function are first-class citizens"
   ]
  },
  {
   "cell_type": "code",
   "execution_count": 7,
   "id": "ec567969-3518-447f-adbd-f72ba3005f4c",
   "metadata": {},
   "outputs": [],
   "source": [
    "def my_function(angle, trig_function):\n",
    "        return trig_function(angle)"
   ]
  },
  {
   "cell_type": "code",
   "execution_count": 9,
   "id": "aede5703-808e-4782-a6ee-1a6147d0d74e",
   "metadata": {},
   "outputs": [],
   "source": [
    "import numpy as np"
   ]
  },
  {
   "cell_type": "code",
   "execution_count": 11,
   "id": "550d38db-e5f9-4434-8077-da3c29e56b90",
   "metadata": {},
   "outputs": [
    {
     "data": {
      "text/plain": [
       "1.0"
      ]
     },
     "execution_count": 11,
     "metadata": {},
     "output_type": "execute_result"
    }
   ],
   "source": [
    "my_function((np.pi/2), np.sin)"
   ]
  },
  {
   "cell_type": "code",
   "execution_count": 13,
   "id": "6b5b547e-82b2-4312-9965-01512bd7d24c",
   "metadata": {},
   "outputs": [],
   "source": [
    "def my_function_2(x,y):\n",
    "    return x(y)"
   ]
  },
  {
   "cell_type": "code",
   "execution_count": 16,
   "id": "3c60ed32-737a-46cb-85e7-204f91ef0b84",
   "metadata": {},
   "outputs": [
    {
     "ename": "NameError",
     "evalue": "name 'y' is not defined",
     "output_type": "error",
     "traceback": [
      "\u001b[1;31m---------------------------------------------------------------------------\u001b[0m",
      "\u001b[1;31mNameError\u001b[0m                                 Traceback (most recent call last)",
      "Cell \u001b[1;32mIn[16], line 1\u001b[0m\n\u001b[1;32m----> 1\u001b[0m my_function_2(\u001b[43my\u001b[49m,x)\n",
      "\u001b[1;31mNameError\u001b[0m: name 'y' is not defined"
     ]
    }
   ],
   "source": [
    "my_function_2(y,x)"
   ]
  },
  {
   "attachments": {},
   "cell_type": "markdown",
   "id": "7eb0cbd0",
   "metadata": {},
   "source": [
    "## 2.4 More about unpacking"
   ]
  },
  {
   "cell_type": "code",
   "execution_count": 17,
   "id": "83c36a76-076f-4b48-b70b-db039ae093b8",
   "metadata": {},
   "outputs": [
    {
     "data": {
      "text/plain": [
       "('apple', 'orange', 'watermelon')"
      ]
     },
     "execution_count": 17,
     "metadata": {},
     "output_type": "execute_result"
    }
   ],
   "source": [
    "x,y,z = ['apple','orange','watermelon']\n",
    "x,y,z"
   ]
  },
  {
   "cell_type": "code",
   "execution_count": 21,
   "id": "afccb5d8-b7a9-4055-9bc0-a2568ba5ff22",
   "metadata": {},
   "outputs": [
    {
     "ename": "NameError",
     "evalue": "name 'apple' is not defined",
     "output_type": "error",
     "traceback": [
      "\u001b[1;31m---------------------------------------------------------------------------\u001b[0m",
      "\u001b[1;31mNameError\u001b[0m                                 Traceback (most recent call last)",
      "Cell \u001b[1;32mIn[21], line 1\u001b[0m\n\u001b[1;32m----> 1\u001b[0m x,y,z \u001b[38;5;241m=\u001b[39m np\u001b[38;5;241m.\u001b[39marray[\u001b[43mapple\u001b[49m,orange,watermelon]\n\u001b[0;32m      2\u001b[0m x,y,z\n\u001b[0;32m      4\u001b[0m \u001b[38;5;66;03m#Doesn't work with word elements?\u001b[39;00m\n",
      "\u001b[1;31mNameError\u001b[0m: name 'apple' is not defined"
     ]
    }
   ],
   "source": [
    "x,y,z = np.array[apple,orange,watermelon]\n",
    "x,y,z\n",
    "\n",
    "#Doesn't work with word elements?"
   ]
  },
  {
   "cell_type": "code",
   "execution_count": 22,
   "id": "7b87c8bb-9037-47b9-9a72-b5b789b95327",
   "metadata": {},
   "outputs": [
    {
     "data": {
      "text/plain": [
       "(100, [24, 93, 46], 555)"
      ]
     },
     "execution_count": 22,
     "metadata": {},
     "output_type": "execute_result"
    }
   ],
   "source": [
    "x, *y, z = np.array([100, 24, 93, 46, 555])\n",
    "x, y, z"
   ]
  },
  {
   "cell_type": "code",
   "execution_count": 23,
   "id": "f0709330-6f9c-47d5-bd88-48913fe616b1",
   "metadata": {},
   "outputs": [
    {
     "data": {
      "text/plain": [
       "(1, 5)"
      ]
     },
     "execution_count": 23,
     "metadata": {},
     "output_type": "execute_result"
    }
   ],
   "source": [
    "x, *_, y = [1, 2, 3, 4, 5]\n",
    "x, y"
   ]
  }
 ],
 "metadata": {
  "kernelspec": {
   "display_name": "Python 3 (ipykernel)",
   "language": "python",
   "name": "python3"
  },
  "language_info": {
   "codemirror_mode": {
    "name": "ipython",
    "version": 3
   },
   "file_extension": ".py",
   "mimetype": "text/x-python",
   "name": "python",
   "nbconvert_exporter": "python",
   "pygments_lexer": "ipython3",
   "version": "3.11.5"
  },
  "toc": {
   "base_numbering": 1,
   "nav_menu": {},
   "number_sections": true,
   "sideBar": true,
   "skip_h1_title": false,
   "title_cell": "Table of Contents",
   "title_sidebar": "Contents",
   "toc_cell": false,
   "toc_position": {},
   "toc_section_display": true,
   "toc_window_display": false
  },
  "vscode": {
   "interpreter": {
    "hash": "31f2aee4e71d21fbe5cf8b01ff0e069b9275f58929596ceb00d14d90e3e16cd6"
   }
  }
 },
 "nbformat": 4,
 "nbformat_minor": 5
}
