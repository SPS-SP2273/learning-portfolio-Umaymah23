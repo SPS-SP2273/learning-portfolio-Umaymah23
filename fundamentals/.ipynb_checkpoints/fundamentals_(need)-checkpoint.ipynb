{
 "cells": [
  {
   "attachments": {},
   "cell_type": "markdown",
   "id": "123456",
   "metadata": {},
   "source": [
    "<div style=\"text-align:left;font-size:2em\"><span style=\"font-weight:bolder;font-size:1.25em\">SP2273 | Learning Portfolio</span><br><br><span style=\"font-weight:bold;color:darkred\">Fundamentals (Need)</span></div>"
   ]
  },
  {
   "attachments": {},
   "cell_type": "markdown",
   "id": "8863faeb",
   "metadata": {},
   "source": [
    "# Functions"
   ]
  },
  {
   "cell_type": "code",
   "execution_count": 1,
   "id": "0e46fb7c-bf59-408d-a9b4-f50e8fa05839",
   "metadata": {},
   "outputs": [
    {
     "name": "stdout",
     "output_type": "stream",
     "text": [
      "Hello world!\n"
     ]
    }
   ],
   "source": [
    "print('Hello world!')"
   ]
  },
  {
   "cell_type": "code",
   "execution_count": 3,
   "id": "793e6e3a-3001-4cda-a05a-88fdac8b81e2",
   "metadata": {},
   "outputs": [
    {
     "ename": "SyntaxError",
     "evalue": "'(' was never closed (1523326249.py, line 1)",
     "output_type": "error",
     "traceback": [
      "\u001b[1;36m  Cell \u001b[1;32mIn[3], line 1\u001b[1;36m\u001b[0m\n\u001b[1;33m    print('Hello world!'\u001b[0m\n\u001b[1;37m         ^\u001b[0m\n\u001b[1;31mSyntaxError\u001b[0m\u001b[1;31m:\u001b[0m '(' was never closed\n"
     ]
    }
   ],
   "source": [
    "print('Hello world!'\n",
    "print('Hello world again!')"
   ]
  },
  {
   "cell_type": "code",
   "execution_count": 4,
   "id": "6e082a92-2229-497f-8c95-80b5dab2698c",
   "metadata": {},
   "outputs": [
    {
     "ename": "NameError",
     "evalue": "name 'Print' is not defined",
     "output_type": "error",
     "traceback": [
      "\u001b[1;31m---------------------------------------------------------------------------\u001b[0m",
      "\u001b[1;31mNameError\u001b[0m                                 Traceback (most recent call last)",
      "Cell \u001b[1;32mIn[4], line 1\u001b[0m\n\u001b[1;32m----> 1\u001b[0m \u001b[43mPrint\u001b[49m(\u001b[38;5;124m'\u001b[39m\u001b[38;5;124mHello world!\u001b[39m\u001b[38;5;124m'\u001b[39m)\n",
      "\u001b[1;31mNameError\u001b[0m: name 'Print' is not defined"
     ]
    }
   ],
   "source": [
    "Print('Hello world!')"
   ]
  },
  {
   "attachments": {},
   "cell_type": "markdown",
   "id": "5278a66d",
   "metadata": {},
   "source": [
    "# Python is interpreted"
   ]
  },
  {
   "cell_type": "code",
   "execution_count": 4,
   "id": "4230ae0e-23fd-45f5-91fb-4d7d3120ea18",
   "metadata": {},
   "outputs": [
    {
     "name": "stdout",
     "output_type": "stream",
     "text": [
      "Hello World\n",
      "Hello World again\n"
     ]
    }
   ],
   "source": [
    "print('Hello World') #Why was there no error?\n",
    "print('Hello World again')"
   ]
  },
  {
   "attachments": {},
   "cell_type": "markdown",
   "id": "5cce3bd9",
   "metadata": {},
   "source": [
    "# Python is sensitive."
   ]
  },
  {
   "cell_type": "code",
   "execution_count": 1,
   "id": "91d4fe8c-492f-49d7-a9d3-53cb912b9665",
   "metadata": {},
   "outputs": [
    {
     "name": "stdout",
     "output_type": "stream",
     "text": [
      "Hello World!\n"
     ]
    }
   ],
   "source": [
    "print ('Hello World!')"
   ]
  },
  {
   "cell_type": "code",
   "execution_count": 2,
   "id": "ba15068d-625e-4014-a429-b4d71925e201",
   "metadata": {},
   "outputs": [
    {
     "ename": "NameError",
     "evalue": "name 'Print' is not defined",
     "output_type": "error",
     "traceback": [
      "\u001b[1;31m---------------------------------------------------------------------------\u001b[0m",
      "\u001b[1;31mNameError\u001b[0m                                 Traceback (most recent call last)",
      "Cell \u001b[1;32mIn[2], line 1\u001b[0m\n\u001b[1;32m----> 1\u001b[0m \u001b[43mPrint\u001b[49m (\u001b[38;5;124m'\u001b[39m\u001b[38;5;124mHello World!\u001b[39m\u001b[38;5;124m'\u001b[39m)\n",
      "\u001b[1;31mNameError\u001b[0m: name 'Print' is not defined"
     ]
    }
   ],
   "source": [
    "Print ('Hello World!')"
   ]
  },
  {
   "attachments": {},
   "cell_type": "markdown",
   "id": "f72ec5d6",
   "metadata": {},
   "source": [
    "# Remember"
   ]
  },
  {
   "cell_type": "code",
   "execution_count": 10,
   "id": "d880e36d-b089-4dfe-b841-04bfc0f651dd",
   "metadata": {},
   "outputs": [],
   "source": [
    "name = 'Batman' #Define name as 'Batman'\n",
    "#Use of single inverted commas is very important to define the variable"
   ]
  },
  {
   "cell_type": "code",
   "execution_count": 8,
   "id": "e1d77b89-a914-4d77-8d46-0295c32899b6",
   "metadata": {},
   "outputs": [
    {
     "data": {
      "text/plain": [
       "True"
      ]
     },
     "execution_count": 8,
     "metadata": {},
     "output_type": "execute_result"
    }
   ],
   "source": [
    "name == 'Batman' #Is name defined as 'Batman'?\n",
    "#Answer in true or false"
   ]
  },
  {
   "attachments": {},
   "cell_type": "markdown",
   "id": "0eeeb1c3",
   "metadata": {},
   "source": [
    "# Comments"
   ]
  },
  {
   "cell_type": "code",
   "execution_count": 9,
   "id": "c3c94afc-e4f2-44de-be47-978337e6c4d8",
   "metadata": {},
   "outputs": [
    {
     "name": "stdout",
     "output_type": "stream",
     "text": [
      "Hello Batman!\n"
     ]
    }
   ],
   "source": [
    "name = 'Batman'\n",
    "\n",
    "if name == 'Batman': #Note use of indentations and colons in the code\n",
    "    print('Hello Batman!')\n",
    "else:\n",
    "    print('Hello World!')"
   ]
  },
  {
   "attachments": {},
   "cell_type": "markdown",
   "id": "f2c0b536",
   "metadata": {},
   "source": [
    "# Remember"
   ]
  },
  {
   "cell_type": "code",
   "execution_count": 11,
   "id": "249f8b7d-ac09-4eb1-b5f4-67fdb8fa5119",
   "metadata": {},
   "outputs": [],
   "source": [
    "age = 24"
   ]
  },
  {
   "cell_type": "code",
   "execution_count": 12,
   "id": "f189ecf3-683a-4a96-8037-e82b44fda798",
   "metadata": {},
   "outputs": [
    {
     "name": "stdout",
     "output_type": "stream",
     "text": [
      "24\n"
     ]
    }
   ],
   "source": [
    "print (age) #Print the value of variable age"
   ]
  },
  {
   "cell_type": "code",
   "execution_count": 13,
   "id": "e73a8e10-accd-4fa4-b677-f91c94ab8e3d",
   "metadata": {},
   "outputs": [
    {
     "name": "stdout",
     "output_type": "stream",
     "text": [
      "age\n"
     ]
    }
   ],
   "source": [
    "print (\"age\") #Print the word \"age\""
   ]
  },
  {
   "attachments": {},
   "cell_type": "markdown",
   "id": "fe909e41",
   "metadata": {},
   "source": [
    "# Remember"
   ]
  },
  {
   "cell_type": "code",
   "execution_count": 14,
   "id": "721cfb23-c53c-417a-a428-a746589073c2",
   "metadata": {},
   "outputs": [
    {
     "name": "stdout",
     "output_type": "stream",
     "text": [
      "Hello!\n"
     ]
    }
   ],
   "source": [
    "print ('Hello!') #Functions"
   ]
  },
  {
   "cell_type": "code",
   "execution_count": 15,
   "id": "3e370e76-ebae-4b12-8b87-d01702911cc7",
   "metadata": {},
   "outputs": [
    {
     "data": {
      "text/plain": [
       "256312"
      ]
     },
     "execution_count": 15,
     "metadata": {},
     "output_type": "execute_result"
    }
   ],
   "source": [
    "(45+4532)*56"
   ]
  },
  {
   "cell_type": "code",
   "execution_count": 17,
   "id": "280e380b-482b-454f-b933-37da2d57dcaa",
   "metadata": {},
   "outputs": [],
   "source": [
    "List = [1, 3, 5, 7, 9] #1D list"
   ]
  },
  {
   "cell_type": "code",
   "execution_count": 25,
   "id": "364c1256-941d-4d6e-a0b9-e7a022b5a0aa",
   "metadata": {},
   "outputs": [],
   "source": [
    "List_2 = [\n",
    "    [1, \"A\"],\n",
    "    [2, \"F\"],\n",
    "    [3, \"C\"],\n",
    "    [4, \"H\"]\n",
    "]\n",
    "\n",
    "#Remember use of inverted commas\n",
    "#When to use 2D lists?"
   ]
  },
  {
   "cell_type": "code",
   "execution_count": 26,
   "id": "8e5c7350-f9d4-4a1c-9839-b467379b8931",
   "metadata": {},
   "outputs": [
    {
     "name": "stdout",
     "output_type": "stream",
     "text": [
      "[2, 'F']\n"
     ]
    }
   ],
   "source": [
    "print (List_2[1])"
   ]
  },
  {
   "cell_type": "code",
   "execution_count": 27,
   "id": "a1e4a852-ef6f-41b9-b505-21aae41dc62e",
   "metadata": {},
   "outputs": [],
   "source": [
    "personal_info = {\n",
    "    'Name': 'Human',\n",
    "    'Scientific name': 'Homo sapien',\n",
    "    'Age': 74,\n",
    "    'Location': 'Earth'\n",
    "}\n",
    "\n",
    "#Inverted commas important for defining variables except numbers\n",
    "\n"
   ]
  },
  {
   "cell_type": "code",
   "execution_count": 28,
   "id": "b7dc9778-8d84-485c-89db-dcfa76f7b1b8",
   "metadata": {},
   "outputs": [
    {
     "name": "stdout",
     "output_type": "stream",
     "text": [
      "Human\n"
     ]
    }
   ],
   "source": [
    "print(personal_info['Name'])"
   ]
  },
  {
   "cell_type": "code",
   "execution_count": 29,
   "id": "58519aac-34fc-4226-b40d-ccde4e1a2226",
   "metadata": {},
   "outputs": [],
   "source": [
    "import math"
   ]
  },
  {
   "cell_type": "code",
   "execution_count": 30,
   "id": "35e74ebf-1111-4194-978d-a73494698c30",
   "metadata": {},
   "outputs": [
    {
     "data": {
      "text/plain": [
       "4.0"
      ]
     },
     "execution_count": 30,
     "metadata": {},
     "output_type": "execute_result"
    }
   ],
   "source": [
    "math.sqrt(16)"
   ]
  },
  {
   "cell_type": "code",
   "execution_count": 31,
   "id": "736051bf-487b-4370-9dcc-1255388e903c",
   "metadata": {},
   "outputs": [],
   "source": [
    "import numpy as np"
   ]
  },
  {
   "cell_type": "code",
   "execution_count": 32,
   "id": "bb0d1aa4-bba1-487d-8a4f-ca35e3a44bbd",
   "metadata": {},
   "outputs": [
    {
     "data": {
      "text/plain": [
       "12.0"
      ]
     },
     "execution_count": 32,
     "metadata": {},
     "output_type": "execute_result"
    }
   ],
   "source": [
    "np.sqrt(144)"
   ]
  },
  {
   "cell_type": "code",
   "execution_count": 38,
   "id": "a7dc671b-42d1-4dc7-b696-c4bf7506fc6f",
   "metadata": {},
   "outputs": [
    {
     "ename": "TypeError",
     "evalue": "sqrt() takes from 1 to 2 positional arguments but 4 were given",
     "output_type": "error",
     "traceback": [
      "\u001b[1;31m---------------------------------------------------------------------------\u001b[0m",
      "\u001b[1;31mTypeError\u001b[0m                                 Traceback (most recent call last)",
      "Cell \u001b[1;32mIn[38], line 1\u001b[0m\n\u001b[1;32m----> 1\u001b[0m \u001b[43mnp\u001b[49m\u001b[38;5;241;43m.\u001b[39;49m\u001b[43msqrt\u001b[49m\u001b[43m(\u001b[49m\u001b[38;5;241;43m4\u001b[39;49m\u001b[43m,\u001b[49m\u001b[43m \u001b[49m\u001b[38;5;241;43m9\u001b[39;49m\u001b[43m,\u001b[49m\u001b[43m \u001b[49m\u001b[38;5;241;43m16\u001b[39;49m\u001b[43m,\u001b[49m\u001b[43m \u001b[49m\u001b[38;5;241;43m144\u001b[39;49m\u001b[43m)\u001b[49m \u001b[38;5;66;03m#Does numpy only take maximum 2 arguments?\u001b[39;00m\n\u001b[0;32m      2\u001b[0m \u001b[38;5;66;03m#Forgot square brackets for lists\u001b[39;00m\n",
      "\u001b[1;31mTypeError\u001b[0m: sqrt() takes from 1 to 2 positional arguments but 4 were given"
     ]
    }
   ],
   "source": [
    "np.sqrt(4, 9, 16, 144) #Does numpy only take maximum 2 arguments?\n",
    "#Forgot square brackets for lists"
   ]
  },
  {
   "cell_type": "code",
   "execution_count": 39,
   "id": "ed0460a8-7a77-4f29-96a5-29da80810e52",
   "metadata": {},
   "outputs": [
    {
     "data": {
      "text/plain": [
       "array([ 2.,  3.,  4., 12.])"
      ]
     },
     "execution_count": 39,
     "metadata": {},
     "output_type": "execute_result"
    }
   ],
   "source": [
    "np.sqrt([4,9,16,144])"
   ]
  },
  {
   "attachments": {},
   "cell_type": "markdown",
   "id": "45410a3f",
   "metadata": {},
   "source": [
    "# The dot (.)"
   ]
  },
  {
   "cell_type": "code",
   "execution_count": 40,
   "id": "9642d3c5-9ca0-4f2e-8251-55e2632fbfb8",
   "metadata": {},
   "outputs": [
    {
     "data": {
      "text/plain": [
       "['Flowers', 'are', 'beautiful']"
      ]
     },
     "execution_count": 40,
     "metadata": {},
     "output_type": "execute_result"
    }
   ],
   "source": [
    "'Flowers are beautiful'.split()"
   ]
  }
 ],
 "metadata": {
  "kernelspec": {
   "display_name": "Python 3 (ipykernel)",
   "language": "python",
   "name": "python3"
  },
  "language_info": {
   "codemirror_mode": {
    "name": "ipython",
    "version": 3
   },
   "file_extension": ".py",
   "mimetype": "text/x-python",
   "name": "python",
   "nbconvert_exporter": "python",
   "pygments_lexer": "ipython3",
   "version": "3.11.5"
  },
  "toc": {
   "base_numbering": 1,
   "nav_menu": {},
   "number_sections": true,
   "sideBar": true,
   "skip_h1_title": false,
   "title_cell": "Table of Contents",
   "title_sidebar": "Contents",
   "toc_cell": false,
   "toc_position": {},
   "toc_section_display": true,
   "toc_window_display": false
  },
  "vscode": {
   "interpreter": {
    "hash": "31f2aee4e71d21fbe5cf8b01ff0e069b9275f58929596ceb00d14d90e3e16cd6"
   }
  }
 },
 "nbformat": 4,
 "nbformat_minor": 5
}
