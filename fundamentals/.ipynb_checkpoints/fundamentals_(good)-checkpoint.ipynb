{
 "cells": [
  {
   "attachments": {},
   "cell_type": "markdown",
   "id": "123456",
   "metadata": {},
   "source": [
    "<div style=\"text-align:left;font-size:2em\"><span style=\"font-weight:bolder;font-size:1.25em\">SP2273 | Learning Portfolio</span><br><br><span style=\"font-weight:bold;color:darkred\">Fundamentals (Good)</span></div>"
   ]
  },
  {
   "attachments": {},
   "cell_type": "markdown",
   "id": "02bc0c33",
   "metadata": {},
   "source": [
    "# 1 There is more to if"
   ]
  },
  {
   "cell_type": "code",
   "execution_count": 4,
   "id": "9bf3470d-c048-4efa-90f3-42b708ba4983",
   "metadata": {},
   "outputs": [
    {
     "name": "stdout",
     "output_type": "stream",
     "text": [
      "Hello!\n"
     ]
    }
   ],
   "source": [
    "name = 'watermelon'\n",
    "\n",
    "if name == 'watermelon':\n",
    " print('Hello!')\n",
    "elif name == 'pineapple':\n",
    " print('Hi!')\n",
    "else:\n",
    " print('No!')"
   ]
  },
  {
   "attachments": {},
   "cell_type": "markdown",
   "id": "961f5af5",
   "metadata": {},
   "source": [
    "# 2 Asking questions"
   ]
  },
  {
   "cell_type": "code",
   "execution_count": 5,
   "id": "5673d577-7ee2-4fb5-9bb0-cbdcf360a47d",
   "metadata": {},
   "outputs": [],
   "source": [
    "colours = ['orange','blue','red','green']\n",
    "planets = ['jupiter','venus','saturn']"
   ]
  },
  {
   "cell_type": "code",
   "execution_count": 7,
   "id": "f5241bec-648e-4b06-8738-0b283aa9649f",
   "metadata": {},
   "outputs": [
    {
     "data": {
      "text/plain": [
       "\u001b[1;31mType:\u001b[0m        list\n",
       "\u001b[1;31mString form:\u001b[0m ['orange', 'blue', 'red', 'green']\n",
       "\u001b[1;31mLength:\u001b[0m      4\n",
       "\u001b[1;31mDocstring:\u001b[0m  \n",
       "Built-in mutable sequence.\n",
       "\n",
       "If no argument is given, the constructor creates a new empty list.\n",
       "The argument must be an iterable if specified."
      ]
     },
     "metadata": {},
     "output_type": "display_data"
    }
   ],
   "source": [
    "'orange' in colours? #What is the role of question mark?"
   ]
  },
  {
   "cell_type": "code",
   "execution_count": 8,
   "id": "44c78d91-0f59-478f-af52-8c2961e534a1",
   "metadata": {},
   "outputs": [
    {
     "data": {
      "text/plain": [
       "False"
      ]
     },
     "execution_count": 8,
     "metadata": {},
     "output_type": "execute_result"
    }
   ],
   "source": [
    "'blue' in planets"
   ]
  },
  {
   "attachments": {},
   "cell_type": "markdown",
   "id": "29d8c25e",
   "metadata": {},
   "source": [
    "# 3 Remember"
   ]
  },
  {
   "attachments": {},
   "cell_type": "markdown",
   "id": "9e8050f6",
   "metadata": {},
   "source": [
    "## 3.1 Asking Math questions"
   ]
  },
  {
   "cell_type": "code",
   "execution_count": 9,
   "id": "c6a5c427-1c0c-42f6-ab4d-4b3ed2f696cc",
   "metadata": {},
   "outputs": [],
   "source": [
    "x = 10"
   ]
  },
  {
   "cell_type": "code",
   "execution_count": 10,
   "id": "c0b23ca6-edc6-44d2-af68-8775b4751424",
   "metadata": {},
   "outputs": [
    {
     "data": {
      "text/plain": [
       "False"
      ]
     },
     "execution_count": 10,
     "metadata": {},
     "output_type": "execute_result"
    }
   ],
   "source": [
    "x > 15"
   ]
  },
  {
   "cell_type": "code",
   "execution_count": 11,
   "id": "ea265a19-237a-477d-b524-f42882f79ab5",
   "metadata": {},
   "outputs": [
    {
     "data": {
      "text/plain": [
       "True"
      ]
     },
     "execution_count": 11,
     "metadata": {},
     "output_type": "execute_result"
    }
   ],
   "source": [
    "(x > 5) and (x < 15)"
   ]
  },
  {
   "attachments": {},
   "cell_type": "markdown",
   "id": "d3643f78",
   "metadata": {},
   "source": [
    "# 4 Python stores information in different formats or types"
   ]
  },
  {
   "cell_type": "code",
   "execution_count": 12,
   "id": "040fbda5-54af-4c38-be0e-59fe0f20f854",
   "metadata": {},
   "outputs": [
    {
     "name": "stdout",
     "output_type": "stream",
     "text": [
      "1 <class 'int'>\n"
     ]
    }
   ],
   "source": [
    "x = int(1.234)\n",
    "print(x, type(x))"
   ]
  },
  {
   "cell_type": "code",
   "execution_count": 13,
   "id": "9951370a-5a50-4c75-b436-b5f59deced6f",
   "metadata": {},
   "outputs": [
    {
     "name": "stdout",
     "output_type": "stream",
     "text": [
      "1.234 <class 'str'>\n"
     ]
    }
   ],
   "source": [
    "x = str(1.234)\n",
    "print(x, type(x))"
   ]
  },
  {
   "cell_type": "code",
   "execution_count": 14,
   "id": "f3f16946-56c6-46b5-bedc-2f5e9a3c0652",
   "metadata": {},
   "outputs": [
    {
     "name": "stdout",
     "output_type": "stream",
     "text": [
      "apple <class 'str'>\n"
     ]
    }
   ],
   "source": [
    "x = str('apple')\n",
    "print(x, type(x))"
   ]
  },
  {
   "cell_type": "code",
   "execution_count": 15,
   "id": "0b953a0a-6770-4143-b61c-ac6e7df31629",
   "metadata": {},
   "outputs": [
    {
     "name": "stdout",
     "output_type": "stream",
     "text": [
      "33.33 <class 'float'>\n"
     ]
    }
   ],
   "source": [
    "x = float(33.33)\n",
    "print(x, type(x))"
   ]
  },
  {
   "cell_type": "code",
   "execution_count": 16,
   "id": "ff00083c-2745-4fca-800d-5887ac0cf443",
   "metadata": {},
   "outputs": [
    {
     "name": "stdout",
     "output_type": "stream",
     "text": [
      "1.234 <class 'str'>\n"
     ]
    }
   ],
   "source": [
    "x = '1.234'        # x is a string\n",
    "print(x, type(x))"
   ]
  },
  {
   "attachments": {},
   "cell_type": "markdown",
   "id": "bd069ba3",
   "metadata": {},
   "source": [
    "# 5 Never compare floats directly"
   ]
  },
  {
   "cell_type": "code",
   "execution_count": 18,
   "id": "36d919f3-f2d3-4a62-8458-ca6989eb0c64",
   "metadata": {},
   "outputs": [
    {
     "data": {
      "text/plain": [
       "True"
      ]
     },
     "execution_count": 18,
     "metadata": {},
     "output_type": "execute_result"
    }
   ],
   "source": [
    "a = 9.9\n",
    "b = 1.1\n",
    "b*9 == a\n",
    "#Why did I get this as true?"
   ]
  },
  {
   "cell_type": "code",
   "execution_count": 19,
   "id": "197b1bcd-b613-400a-88ea-251750ecd56c",
   "metadata": {},
   "outputs": [
    {
     "data": {
      "text/plain": [
       "False"
      ]
     },
     "execution_count": 19,
     "metadata": {},
     "output_type": "execute_result"
    }
   ],
   "source": [
    "a = 0.1\n",
    "a3 = 0.3\n",
    "a * 3 == a3"
   ]
  },
  {
   "attachments": {},
   "cell_type": "markdown",
   "id": "b02f139c",
   "metadata": {},
   "source": [
    "# 6 Combining English and variables"
   ]
  },
  {
   "cell_type": "code",
   "execution_count": 20,
   "id": "6ad046a0-4497-42f0-90b3-36ef472eb1f0",
   "metadata": {},
   "outputs": [
    {
     "name": "stdout",
     "output_type": "stream",
     "text": [
      "Hello Batman!\n"
     ]
    }
   ],
   "source": [
    "name = \"Batman\"\n",
    "print(f\"Hello {name}!\")"
   ]
  },
  {
   "cell_type": "code",
   "execution_count": 21,
   "id": "3cf1ead4-6d6a-4c33-b35f-2d3ba4a4dcf1",
   "metadata": {},
   "outputs": [
    {
     "name": "stdout",
     "output_type": "stream",
     "text": [
      "Hello {name}!\n"
     ]
    }
   ],
   "source": [
    "name = \"Batman\"\n",
    "print(\"Hello {name}!\")"
   ]
  },
  {
   "cell_type": "code",
   "execution_count": 22,
   "id": "33c743de-178d-46d6-a320-51b4566a64a0",
   "metadata": {},
   "outputs": [
    {
     "name": "stdout",
     "output_type": "stream",
     "text": [
      "Hello BATMAN!\n"
     ]
    }
   ],
   "source": [
    "name = \"Batman\"\n",
    "print(f\"Hello {name.upper()}!\")"
   ]
  },
  {
   "attachments": {},
   "cell_type": "markdown",
   "id": "59e69ade",
   "metadata": {},
   "source": [
    "## 6.1 Structure of f-strings"
   ]
  },
  {
   "cell_type": "code",
   "execution_count": 24,
   "id": "0372316a-a80a-45ba-8a5a-43a3294e2809",
   "metadata": {},
   "outputs": [],
   "source": [
    "text = 'Bruce is Batman'"
   ]
  },
  {
   "cell_type": "code",
   "execution_count": 25,
   "id": "4fb7baf5-732c-49f8-8f7e-cd58d7383606",
   "metadata": {},
   "outputs": [
    {
     "name": "stdout",
     "output_type": "stream",
     "text": [
      "               Bruce is Batman\n"
     ]
    }
   ],
   "source": [
    "print(f'{text:>30}')      # A block of 30 characters;\n",
    "                          # aligned right"
   ]
  },
  {
   "cell_type": "code",
   "execution_count": 30,
   "id": "06da31d6-d7c2-4508-8eaa-dbcb0633882c",
   "metadata": {},
   "outputs": [
    {
     "ename": "SyntaxError",
     "evalue": "invalid syntax (2173516098.py, line 1)",
     "output_type": "error",
     "traceback": [
      "\u001b[1;36m  Cell \u001b[1;32mIn[30], line 1\u001b[1;36m\u001b[0m\n\u001b[1;33m    print(f{text,>,30})\u001b[0m\n\u001b[1;37m           ^\u001b[0m\n\u001b[1;31mSyntaxError\u001b[0m\u001b[1;31m:\u001b[0m invalid syntax\n"
     ]
    }
   ],
   "source": [
    "print(f{text,>,30})"
   ]
  },
  {
   "cell_type": "code",
   "execution_count": 32,
   "id": "4823d5f8-f41e-4790-bc3f-6d540050cbbe",
   "metadata": {},
   "outputs": [],
   "source": [
    "import numpy as np"
   ]
  },
  {
   "cell_type": "code",
   "execution_count": 33,
   "id": "7323804d-16aa-49d1-ba73-2df49292fd67",
   "metadata": {},
   "outputs": [
    {
     "name": "stdout",
     "output_type": "stream",
     "text": [
      "The cube of pi to 6 decimal places is 31.006277\n"
     ]
    }
   ],
   "source": [
    "print(f'The cube of pi to 6 decimal places is {np.pi**3:.6f}')"
   ]
  },
  {
   "cell_type": "code",
   "execution_count": 34,
   "id": "dbe70d3f-8ca4-4e01-91cd-c072a36077fa",
   "metadata": {},
   "outputs": [
    {
     "name": "stdout",
     "output_type": "stream",
     "text": [
      "The cube of pi to 6 decimal places is 3.100628e+01\n"
     ]
    }
   ],
   "source": [
    "print(f'The cube of pi to 6 decimal places is {np.pi**3:.6e}')"
   ]
  },
  {
   "cell_type": "code",
   "execution_count": 35,
   "id": "d0d6f177-9374-412d-9e5f-3434bfdbdaa9",
   "metadata": {},
   "outputs": [],
   "source": [
    "x = 555.67"
   ]
  },
  {
   "cell_type": "code",
   "execution_count": 37,
   "id": "c912f74b-280c-454b-a257-837a9754bd1c",
   "metadata": {},
   "outputs": [
    {
     "name": "stdout",
     "output_type": "stream",
     "text": [
      "555.67\n"
     ]
    }
   ],
   "source": [
    "print(f'{x:>06.5g}')"
   ]
  },
  {
   "cell_type": "code",
   "execution_count": 38,
   "id": "9c8572bd-175e-4f01-8aa0-e082767d0f71",
   "metadata": {},
   "outputs": [
    {
     "name": "stdout",
     "output_type": "stream",
     "text": [
      "0000555.67\n"
     ]
    }
   ],
   "source": [
    "print(f'{x:>010.5g}')"
   ]
  },
  {
   "cell_type": "code",
   "execution_count": 39,
   "id": "fdeab6c0-c0de-4a4f-879a-37ccfe375780",
   "metadata": {},
   "outputs": [
    {
     "name": "stdout",
     "output_type": "stream",
     "text": [
      "00003.1416\n"
     ]
    }
   ],
   "source": [
    "print(f'{np.pi:>010.5g}')"
   ]
  },
  {
   "attachments": {},
   "cell_type": "markdown",
   "id": "bc465145",
   "metadata": {},
   "source": [
    "# 7 Escape sequences"
   ]
  },
  {
   "cell_type": "code",
   "execution_count": 40,
   "id": "a0a95d78-f2ba-4d66-9f06-c625f7a0265c",
   "metadata": {},
   "outputs": [
    {
     "name": "stdout",
     "output_type": "stream",
     "text": [
      "Line 1\n",
      "\tLine 2\n",
      "\t\tLine 3\n"
     ]
    }
   ],
   "source": [
    "print('Line 1\\n\\tLine 2\\n\\t\\tLine 3')"
   ]
  },
  {
   "cell_type": "code",
   "execution_count": 43,
   "id": "f956938e-d563-4b4c-85f4-1aa60fc59a47",
   "metadata": {},
   "outputs": [
    {
     "name": "stdout",
     "output_type": "stream",
     "text": [
      "'You're twenty years old'\n"
     ]
    }
   ],
   "source": [
    "print(\"'You're twenty years old'\")"
   ]
  },
  {
   "cell_type": "code",
   "execution_count": 44,
   "id": "bff1cfc9-dbb8-4419-b1a4-3b5df1e1646c",
   "metadata": {},
   "outputs": [
    {
     "name": "stdout",
     "output_type": "stream",
     "text": [
      "orange\\apple\\citrus\n"
     ]
    }
   ],
   "source": [
    "print('orange\\\\apple\\\\citrus')"
   ]
  },
  {
   "cell_type": "code",
   "execution_count": 45,
   "id": "8b212789-e143-4cc7-a191-2f33d225dfa7",
   "metadata": {},
   "outputs": [
    {
     "name": "stdout",
     "output_type": "stream",
     "text": [
      "orange\n",
      "bananna\n"
     ]
    }
   ],
   "source": [
    "print('orange\\nbananna')"
   ]
  },
  {
   "cell_type": "code",
   "execution_count": 46,
   "id": "3e9c06c1-8e57-47f9-8611-6f24c7bd60df",
   "metadata": {},
   "outputs": [
    {
     "name": "stdout",
     "output_type": "stream",
     "text": [
      "x\ty\n"
     ]
    }
   ],
   "source": [
    "print('x\\ty')"
   ]
  },
  {
   "attachments": {},
   "cell_type": "markdown",
   "id": "17427b21",
   "metadata": {},
   "source": [
    "# 8 Computers read = from Right to Left!"
   ]
  },
  {
   "cell_type": "code",
   "execution_count": 51,
   "id": "5fc38b65-e5db-4c14-aea3-330c161c7b39",
   "metadata": {},
   "outputs": [
    {
     "name": "stdout",
     "output_type": "stream",
     "text": [
      "42\n"
     ]
    }
   ],
   "source": [
    "x = 40\n",
    "y = x + 2\n",
    "print(y)"
   ]
  },
  {
   "cell_type": "code",
   "execution_count": 49,
   "id": "000e3739-2344-4f8a-bfcf-608d7296b1fd",
   "metadata": {},
   "outputs": [
    {
     "name": "stdout",
     "output_type": "stream",
     "text": [
      "42\n"
     ]
    }
   ],
   "source": [
    "y = 40\n",
    "y = y + 2\n",
    "print(y)"
   ]
  },
  {
   "attachments": {},
   "cell_type": "markdown",
   "id": "81bb4f92",
   "metadata": {},
   "source": [
    "# 9 Shorter and Cleaner Code"
   ]
  },
  {
   "cell_type": "code",
   "execution_count": 53,
   "id": "7f8917a0-2582-45ca-b6db-f3c3f262b392",
   "metadata": {},
   "outputs": [
    {
     "name": "stdout",
     "output_type": "stream",
     "text": [
      "46\n"
     ]
    }
   ],
   "source": [
    "y += 2\n",
    "print(y)"
   ]
  }
 ],
 "metadata": {
  "kernelspec": {
   "display_name": "Python 3 (ipykernel)",
   "language": "python",
   "name": "python3"
  },
  "language_info": {
   "codemirror_mode": {
    "name": "ipython",
    "version": 3
   },
   "file_extension": ".py",
   "mimetype": "text/x-python",
   "name": "python",
   "nbconvert_exporter": "python",
   "pygments_lexer": "ipython3",
   "version": "3.11.5"
  },
  "toc": {
   "base_numbering": 1,
   "nav_menu": {},
   "number_sections": true,
   "sideBar": true,
   "skip_h1_title": false,
   "title_cell": "Table of Contents",
   "title_sidebar": "Contents",
   "toc_cell": false,
   "toc_position": {},
   "toc_section_display": true,
   "toc_window_display": false
  },
  "vscode": {
   "interpreter": {
    "hash": "31f2aee4e71d21fbe5cf8b01ff0e069b9275f58929596ceb00d14d90e3e16cd6"
   }
  }
 },
 "nbformat": 4,
 "nbformat_minor": 5
}
