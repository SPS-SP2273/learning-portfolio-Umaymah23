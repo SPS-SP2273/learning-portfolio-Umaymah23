{
 "cells": [
  {
   "attachments": {},
   "cell_type": "markdown",
   "id": "123456",
   "metadata": {},
   "source": [
    "<div style=\"text-align:left;font-size:2em\"><span style=\"font-weight:bolder;font-size:1.25em\">SP2273 | Learning Portfolio</span><br><br><span style=\"font-weight:bold;color:darkred\">Fundamentals (Need) Exercises</span></div>"
   ]
  },
  {
   "cell_type": "markdown",
   "id": "a19c348e-fde0-4048-a7dc-b824eb9092df",
   "metadata": {},
   "source": [
    "### Exercise 1"
   ]
  },
  {
   "cell_type": "markdown",
   "id": "967b773e-307f-4f52-8ef5-81d5bd4f7cc7",
   "metadata": {},
   "source": [
    "1. Basic functions of python:\n",
    "   1. print\n",
    "   2. import #for packages\n",
    "   3. parantheses\n",
    "   4. indentations\n",
    "   5. = #make name carry\n",
    "   6. == #to determine if a variable carries a particular name\n",
    "2. After viewing the notes:\n",
    "   1. *Indentations*\n",
    "   2. *' ',\" \" #to define variables*\n",
    "   3. *. #the dot for showing posession*"
   ]
  },
  {
   "cell_type": "markdown",
   "id": "703298eb-5810-4b52-a96a-ea0f2bf4eb89",
   "metadata": {},
   "source": [
    "### Exercise 2"
   ]
  },
  {
   "cell_type": "code",
   "execution_count": 5,
   "id": "5e9e372c-3274-4ec0-be96-96cbc90eacfb",
   "metadata": {},
   "outputs": [],
   "source": [
    "x = 3\n",
    "y = 4"
   ]
  },
  {
   "cell_type": "code",
   "execution_count": 6,
   "id": "f595644b-9d24-4be1-b55d-3b6b38b9c1e4",
   "metadata": {},
   "outputs": [],
   "source": [
    "import math"
   ]
  },
  {
   "cell_type": "code",
   "execution_count": 7,
   "id": "87d82a28-8c89-45fb-be52-32788bb276dd",
   "metadata": {},
   "outputs": [
    {
     "name": "stdout",
     "output_type": "stream",
     "text": [
      "3 4 3.7416573867739413\n"
     ]
    }
   ],
   "source": [
    "z = math.sqrt((x*2) + (y*2))\n",
    "print(x, y, z)"
   ]
  },
  {
   "cell_type": "markdown",
   "id": "4bb8cbdf-4061-4b1b-9af4-52c2890a738b",
   "metadata": {},
   "source": [
    "### Exercise 3"
   ]
  },
  {
   "cell_type": "markdown",
   "id": "758baf84-d85c-4c21-8334-1679897466e8",
   "metadata": {},
   "source": [
    "1. A specific task.\n",
    "2. Specific instruction to be printed. \n",
    "3. Side note to remember the function. \n",
    "4. Spaces\n",
    "5. Set of special functions. \n",
    "6. Shows possession.\n",
    "7. Define a code. \n",
    "8. 1D List\n",
    "9. 2D List\n",
    "10. Storing data in a dictionary. "
   ]
  },
  {
   "cell_type": "markdown",
   "id": "9de7431a-3eb3-4e3c-8d2f-fb51a0ff2aff",
   "metadata": {},
   "source": [
    "### Exercise 4"
   ]
  },
  {
   "cell_type": "code",
   "execution_count": 8,
   "id": "a079a8f5-078c-4e8d-befe-7bb526584ee9",
   "metadata": {},
   "outputs": [
    {
     "data": {
      "text/plain": [
       "2.5"
      ]
     },
     "execution_count": 8,
     "metadata": {},
     "output_type": "execute_result"
    }
   ],
   "source": [
    "5/2"
   ]
  },
  {
   "cell_type": "code",
   "execution_count": 9,
   "id": "9e0c04e8-3367-45eb-8571-4f7ac82ace7a",
   "metadata": {},
   "outputs": [
    {
     "data": {
      "text/plain": [
       "2"
      ]
     },
     "execution_count": 9,
     "metadata": {},
     "output_type": "execute_result"
    }
   ],
   "source": [
    "5//2"
   ]
  },
  {
   "cell_type": "code",
   "execution_count": 10,
   "id": "8a6830b3-5355-446c-be7a-0fee5611e01d",
   "metadata": {},
   "outputs": [
    {
     "data": {
      "text/plain": [
       "5"
      ]
     },
     "execution_count": 10,
     "metadata": {},
     "output_type": "execute_result"
    }
   ],
   "source": [
    "10//2"
   ]
  },
  {
   "cell_type": "code",
   "execution_count": 11,
   "id": "a376b1b9-2b54-4cb6-83d5-b9c21348ccd2",
   "metadata": {},
   "outputs": [
    {
     "data": {
      "text/plain": [
       "1.0"
      ]
     },
     "execution_count": 11,
     "metadata": {},
     "output_type": "execute_result"
    }
   ],
   "source": [
    "2.5//2"
   ]
  },
  {
   "cell_type": "code",
   "execution_count": 12,
   "id": "2945adae-de00-42a8-b57b-9decb6366cd2",
   "metadata": {},
   "outputs": [
    {
     "data": {
      "text/plain": [
       "1"
      ]
     },
     "execution_count": 12,
     "metadata": {},
     "output_type": "execute_result"
    }
   ],
   "source": [
    "3//2"
   ]
  },
  {
   "cell_type": "code",
   "execution_count": 13,
   "id": "e0951eed-3853-4080-9aec-299ff0df9b3e",
   "metadata": {},
   "outputs": [
    {
     "data": {
      "text/plain": [
       "1"
      ]
     },
     "execution_count": 13,
     "metadata": {},
     "output_type": "execute_result"
    }
   ],
   "source": [
    "5%2"
   ]
  },
  {
   "cell_type": "code",
   "execution_count": 15,
   "id": "8af4773d-9dea-405d-afb6-d815bd967dce",
   "metadata": {},
   "outputs": [
    {
     "data": {
      "text/plain": [
       "2"
      ]
     },
     "execution_count": 15,
     "metadata": {},
     "output_type": "execute_result"
    }
   ],
   "source": [
    "10//4"
   ]
  },
  {
   "cell_type": "code",
   "execution_count": 16,
   "id": "c150beb7-f821-4357-be40-77e980459085",
   "metadata": {},
   "outputs": [
    {
     "data": {
      "text/plain": [
       "1"
      ]
     },
     "execution_count": 16,
     "metadata": {},
     "output_type": "execute_result"
    }
   ],
   "source": [
    "6//4"
   ]
  },
  {
   "cell_type": "code",
   "execution_count": 17,
   "id": "e06b4737-971b-46a6-9bb5-3a8b2404bf7f",
   "metadata": {},
   "outputs": [
    {
     "data": {
      "text/plain": [
       "0"
      ]
     },
     "execution_count": 17,
     "metadata": {},
     "output_type": "execute_result"
    }
   ],
   "source": [
    "16%2"
   ]
  },
  {
   "cell_type": "markdown",
   "id": "05f7c8d1-d70b-4587-aae8-131646a4133e",
   "metadata": {},
   "source": [
    "1. Regular division.\n",
    "2. Gives quotient of division.\n",
    "3. Gives remainder of division. "
   ]
  }
 ],
 "metadata": {
  "kernelspec": {
   "display_name": "Python 3 (ipykernel)",
   "language": "python",
   "name": "python3"
  },
  "language_info": {
   "codemirror_mode": {
    "name": "ipython",
    "version": 3
   },
   "file_extension": ".py",
   "mimetype": "text/x-python",
   "name": "python",
   "nbconvert_exporter": "python",
   "pygments_lexer": "ipython3",
   "version": "3.11.5"
  },
  "toc": {
   "base_numbering": 1,
   "nav_menu": {},
   "number_sections": true,
   "sideBar": true,
   "skip_h1_title": false,
   "title_cell": "Table of Contents",
   "title_sidebar": "Contents",
   "toc_cell": false,
   "toc_position": {},
   "toc_section_display": true,
   "toc_window_display": false
  },
  "vscode": {
   "interpreter": {
    "hash": "31f2aee4e71d21fbe5cf8b01ff0e069b9275f58929596ceb00d14d90e3e16cd6"
   }
  }
 },
 "nbformat": 4,
 "nbformat_minor": 5
}
