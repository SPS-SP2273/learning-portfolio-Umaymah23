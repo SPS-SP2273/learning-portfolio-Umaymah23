{
 "cells": [
  {
   "attachments": {},
   "cell_type": "markdown",
   "id": "123456",
   "metadata": {},
   "source": [
    "<div style=\"text-align:left;font-size:2em\"><span style=\"font-weight:bolder;font-size:1.25em\">SP2273 | Learning Portfolio</span><br><br><span style=\"font-weight:bold;color:darkred\">Fundamentals (Good) Exercises</span></div>"
   ]
  },
  {
   "cell_type": "code",
   "execution_count": 2,
   "id": "cb98a6d6-6af0-4f09-8ca9-21168da00fd4",
   "metadata": {},
   "outputs": [
    {
     "name": "stdin",
     "output_type": "stream",
     "text": [
      "Give me a number? 67\n"
     ]
    },
    {
     "name": "stdout",
     "output_type": "stream",
     "text": [
      "You entered 67\n"
     ]
    }
   ],
   "source": [
    "user_input = input('Give me a number?')\n",
    "print('You entered', user_input)"
   ]
  },
  {
   "cell_type": "code",
   "execution_count": 11,
   "id": "679c5661-8908-497b-9d41-66a10efe96c7",
   "metadata": {},
   "outputs": [
    {
     "name": "stdin",
     "output_type": "stream",
     "text": [
      "Enter the student's score 64\n"
     ]
    },
    {
     "name": "stdout",
     "output_type": "stream",
     "text": [
      "64 <class 'str'>\n"
     ]
    },
    {
     "data": {
      "text/plain": [
       "'\\nprint(\"The student\\'s letter grade is\", \\nif Enter the student\\'s score == 70 <= \\'Enter the student\\'s score\\' <= 100\\n print (\\'A\\')\\nelif Enter the student\\'s score == 50 ≤ \\'Enter the student\\'s score\\' ≤ 69\\n print (\\'B\\')\\nelif Enter the student\\'s score == 35 ≤ \\'Enter the student\\'s score\\' ≤ 49\\n print (\\'C\\')\\nelif Enter the student\\'s score == 0 ≤ \\'Enter the student\\'s score\\' ≤ 34\\n print (\\'Fail\\')\\nelse:\\n print (\\'Please enter valid input\\')\\n'"
      ]
     },
     "execution_count": 11,
     "metadata": {},
     "output_type": "execute_result"
    }
   ],
   "source": [
    "user_input = input(\"Enter the student's score\")\n",
    "print(user_input, type(user_input))\n",
    "'''\n",
    "print(\"The student's letter grade is\", \n",
    "if Enter the student's score == 70 <= 'Enter the student's score' <= 100\n",
    " print ('A')\n",
    "elif Enter the student's score == 50 ≤ 'Enter the student's score' ≤ 69\n",
    " print ('B')\n",
    "elif Enter the student's score == 35 ≤ 'Enter the student's score' ≤ 49\n",
    " print ('C')\n",
    "elif Enter the student's score == 0 ≤ 'Enter the student's score' ≤ 34\n",
    " print ('Fail')\n",
    "else:\n",
    " print ('Please enter valid input')\n",
    "'''"
   ]
  },
  {
   "cell_type": "code",
   "execution_count": 8,
   "id": "41de6862-cf76-4642-adba-37e8c33cce18",
   "metadata": {},
   "outputs": [
    {
     "name": "stdout",
     "output_type": "stream",
     "text": [
      "x $geq$ 64\n"
     ]
    }
   ],
   "source": [
    "print('x $geq$ 64')"
   ]
  }
 ],
 "metadata": {
  "kernelspec": {
   "display_name": "Python 3 (ipykernel)",
   "language": "python",
   "name": "python3"
  },
  "language_info": {
   "codemirror_mode": {
    "name": "ipython",
    "version": 3
   },
   "file_extension": ".py",
   "mimetype": "text/x-python",
   "name": "python",
   "nbconvert_exporter": "python",
   "pygments_lexer": "ipython3",
   "version": "3.11.5"
  },
  "toc": {
   "base_numbering": 1,
   "nav_menu": {},
   "number_sections": true,
   "sideBar": true,
   "skip_h1_title": false,
   "title_cell": "Table of Contents",
   "title_sidebar": "Contents",
   "toc_cell": false,
   "toc_position": {},
   "toc_section_display": true,
   "toc_window_display": false
  },
  "vscode": {
   "interpreter": {
    "hash": "31f2aee4e71d21fbe5cf8b01ff0e069b9275f58929596ceb00d14d90e3e16cd6"
   }
  }
 },
 "nbformat": 4,
 "nbformat_minor": 5
}
