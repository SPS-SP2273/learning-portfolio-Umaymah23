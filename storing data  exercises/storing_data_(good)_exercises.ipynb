{
 "cells": [
  {
   "attachments": {},
   "cell_type": "markdown",
   "id": "123456",
   "metadata": {},
   "source": [
    "<div style=\"text-align:left;font-size:2em\"><span style=\"font-weight:bolder;font-size:1.25em\">SP2273 | Learning Portfolio</span><br><br><span style=\"font-weight:bold;color:darkred\">Storing Data (Good) Exercises</span></div>"
   ]
  },
  {
   "cell_type": "markdown",
   "id": "a04a574f-633d-4106-9267-500c3adec2d1",
   "metadata": {},
   "source": [
    "### Exercise 1"
   ]
  },
  {
   "cell_type": "markdown",
   "id": "7ac77bc9-847c-464a-b28d-d67ca5a93d6d",
   "metadata": {},
   "source": [
    "1. Subsetting means to *select*.\n",
    "2. Indexing means to select a particular element from a list or array.\n",
    "3. Slicing means selecting a range of values from a list or array.\n",
    "4. Masking means defining the values of interest with another variable and selecting for that variable. "
   ]
  },
  {
   "cell_type": "markdown",
   "id": "d8999ca0-6d3a-4db6-a564-5deeec2a4f19",
   "metadata": {},
   "source": [
    "### Exercise 2"
   ]
  },
  {
   "cell_type": "code",
   "execution_count": 1,
   "id": "b2b8480b-cda9-46b8-80f6-48d5b3f1f20e",
   "metadata": {},
   "outputs": [],
   "source": [
    "import numpy as np"
   ]
  },
  {
   "cell_type": "code",
   "execution_count": 2,
   "id": "e60f0361-9bd4-4a44-b819-871c5a9223dd",
   "metadata": {},
   "outputs": [],
   "source": [
    "x = np.array([[1, \"A\"], [3, \"C\"], [2, \"B\"], [4, \"D\"],\n",
    "                        [5, \"E\"], [7, \"G\"], [6, \"F\"], [8, \"H\"],\n",
    "                        [10, \"J\"], [9, \"I\"]])"
   ]
  },
  {
   "cell_type": "code",
   "execution_count": 3,
   "id": "99c6a88f-5e61-471d-8b07-ff141bf9f9ef",
   "metadata": {},
   "outputs": [
    {
     "data": {
      "text/plain": [
       "array(['1', '3', '2', '4', '5', '7', '6', '8', '10', '9'], dtype='<U11')"
      ]
     },
     "execution_count": 3,
     "metadata": {},
     "output_type": "execute_result"
    }
   ],
   "source": [
    "x[:,0]"
   ]
  },
  {
   "cell_type": "code",
   "execution_count": 4,
   "id": "47c1cc45-fa30-481d-987b-ba32575e54f2",
   "metadata": {},
   "outputs": [],
   "source": [
    "y = x[:,0]"
   ]
  },
  {
   "cell_type": "code",
   "execution_count": 11,
   "id": "9592c159-eec0-47c5-b01c-0fd5d2182875",
   "metadata": {},
   "outputs": [],
   "source": [
    "z = y.astype(int)"
   ]
  },
  {
   "cell_type": "code",
   "execution_count": 12,
   "id": "24cdda8b-42df-48f7-8147-544df0879996",
   "metadata": {},
   "outputs": [
    {
     "data": {
      "text/plain": [
       "array([1, 1, 0, 0, 1, 1, 0, 0, 0, 1], dtype=int32)"
      ]
     },
     "execution_count": 12,
     "metadata": {},
     "output_type": "execute_result"
    }
   ],
   "source": [
    "z%2"
   ]
  },
  {
   "cell_type": "code",
   "execution_count": 13,
   "id": "163a5966-7328-4e8c-a83b-af70dd577192",
   "metadata": {},
   "outputs": [],
   "source": [
    "a = z%2"
   ]
  },
  {
   "cell_type": "code",
   "execution_count": 15,
   "id": "8b70de49-6518-4892-a775-d1be64e06fb3",
   "metadata": {},
   "outputs": [
    {
     "data": {
      "text/plain": [
       "array([ True,  True, False, False,  True,  True, False, False, False,\n",
       "        True])"
      ]
     },
     "execution_count": 15,
     "metadata": {},
     "output_type": "execute_result"
    }
   ],
   "source": [
    "my_mask = a > 0\n",
    "my_mask"
   ]
  }
 ],
 "metadata": {
  "kernelspec": {
   "display_name": "Python 3 (ipykernel)",
   "language": "python",
   "name": "python3"
  },
  "language_info": {
   "codemirror_mode": {
    "name": "ipython",
    "version": 3
   },
   "file_extension": ".py",
   "mimetype": "text/x-python",
   "name": "python",
   "nbconvert_exporter": "python",
   "pygments_lexer": "ipython3",
   "version": "3.11.5"
  },
  "toc": {
   "base_numbering": 1,
   "nav_menu": {},
   "number_sections": true,
   "sideBar": true,
   "skip_h1_title": false,
   "title_cell": "Table of Contents",
   "title_sidebar": "Contents",
   "toc_cell": false,
   "toc_position": {},
   "toc_section_display": true,
   "toc_window_display": false
  },
  "vscode": {
   "interpreter": {
    "hash": "31f2aee4e71d21fbe5cf8b01ff0e069b9275f58929596ceb00d14d90e3e16cd6"
   }
  }
 },
 "nbformat": 4,
 "nbformat_minor": 5
}
