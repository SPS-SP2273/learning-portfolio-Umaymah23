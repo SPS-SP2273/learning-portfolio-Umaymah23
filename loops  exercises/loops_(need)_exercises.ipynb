{
 "cells": [
  {
   "attachments": {},
   "cell_type": "markdown",
   "id": "123456",
   "metadata": {},
   "source": [
    "<div style=\"text-align:left;font-size:2em\"><span style=\"font-weight:bolder;font-size:1.25em\">SP2273 | Learning Portfolio</span><br><br><span style=\"font-weight:bold;color:darkred\">Loops (Need) Exercises</span></div>"
   ]
  },
  {
   "cell_type": "markdown",
   "id": "30ecced0-3b19-4567-8169-b47f06a8e4f6",
   "metadata": {},
   "source": [
    "### Exercise 1"
   ]
  },
  {
   "cell_type": "code",
   "execution_count": 2,
   "id": "be4909ca-fabe-4d93-9e24-77db57651e9a",
   "metadata": {},
   "outputs": [],
   "source": [
    "temperatures_celsius = [\n",
    "    0, 5, 10, 15, 20, 25,\n",
    "    30, 35, 40, 45, 50\n",
    "]"
   ]
  },
  {
   "cell_type": "code",
   "execution_count": 12,
   "id": "d0fcd328-451c-42ac-b60c-6edc854a030f",
   "metadata": {},
   "outputs": [],
   "source": [
    "import numpy as np"
   ]
  },
  {
   "cell_type": "code",
   "execution_count": 13,
   "id": "652c2066-c572-4d4a-bf5f-e4b9b3749bd6",
   "metadata": {},
   "outputs": [],
   "source": [
    "np_array = np.array(temperatures_celsius)"
   ]
  },
  {
   "cell_type": "code",
   "execution_count": 17,
   "id": "aab13277-7c3d-4a53-89d9-59bd53215b03",
   "metadata": {},
   "outputs": [
    {
     "data": {
      "text/plain": [
       "array([ 32.,  41.,  50.,  59.,  68.,  77.,  86.,  95., 104., 113., 122.])"
      ]
     },
     "execution_count": 17,
     "metadata": {},
     "output_type": "execute_result"
    }
   ],
   "source": [
    "(9/5)*np_array + 32"
   ]
  },
  {
   "cell_type": "code",
   "execution_count": 16,
   "id": "4e3b7b67-8f87-4d33-9ea6-ffdaa5797065",
   "metadata": {},
   "outputs": [],
   "source": [
    "x = (9/5)*np_array + 32"
   ]
  },
  {
   "cell_type": "code",
   "execution_count": 19,
   "id": "049fd6de-fbcf-4524-828e-3d91f1feaf13",
   "metadata": {},
   "outputs": [
    {
     "name": "stdout",
     "output_type": "stream",
     "text": [
      "[0, 5, 10, 15, 20, 25, 30, 35, 40, 45, 50],[ 32.  41.  50.  59.  68.  77.  86.  95. 104. 113. 122.]\n",
      "[0, 5, 10, 15, 20, 25, 30, 35, 40, 45, 50],[ 32.  41.  50.  59.  68.  77.  86.  95. 104. 113. 122.]\n",
      "[0, 5, 10, 15, 20, 25, 30, 35, 40, 45, 50],[ 32.  41.  50.  59.  68.  77.  86.  95. 104. 113. 122.]\n",
      "[0, 5, 10, 15, 20, 25, 30, 35, 40, 45, 50],[ 32.  41.  50.  59.  68.  77.  86.  95. 104. 113. 122.]\n",
      "[0, 5, 10, 15, 20, 25, 30, 35, 40, 45, 50],[ 32.  41.  50.  59.  68.  77.  86.  95. 104. 113. 122.]\n",
      "[0, 5, 10, 15, 20, 25, 30, 35, 40, 45, 50],[ 32.  41.  50.  59.  68.  77.  86.  95. 104. 113. 122.]\n",
      "[0, 5, 10, 15, 20, 25, 30, 35, 40, 45, 50],[ 32.  41.  50.  59.  68.  77.  86.  95. 104. 113. 122.]\n",
      "[0, 5, 10, 15, 20, 25, 30, 35, 40, 45, 50],[ 32.  41.  50.  59.  68.  77.  86.  95. 104. 113. 122.]\n",
      "[0, 5, 10, 15, 20, 25, 30, 35, 40, 45, 50],[ 32.  41.  50.  59.  68.  77.  86.  95. 104. 113. 122.]\n",
      "[0, 5, 10, 15, 20, 25, 30, 35, 40, 45, 50],[ 32.  41.  50.  59.  68.  77.  86.  95. 104. 113. 122.]\n",
      "[0, 5, 10, 15, 20, 25, 30, 35, 40, 45, 50],[ 32.  41.  50.  59.  68.  77.  86.  95. 104. 113. 122.]\n"
     ]
    }
   ],
   "source": [
    "for number_1, number_2 in zip(np_array,x):\n",
    "    print(f\"{temperatures_celsius},{x}\")"
   ]
  }
 ],
 "metadata": {
  "kernelspec": {
   "display_name": "Python 3 (ipykernel)",
   "language": "python",
   "name": "python3"
  },
  "language_info": {
   "codemirror_mode": {
    "name": "ipython",
    "version": 3
   },
   "file_extension": ".py",
   "mimetype": "text/x-python",
   "name": "python",
   "nbconvert_exporter": "python",
   "pygments_lexer": "ipython3",
   "version": "3.11.5"
  },
  "toc": {
   "base_numbering": 1,
   "nav_menu": {},
   "number_sections": true,
   "sideBar": true,
   "skip_h1_title": false,
   "title_cell": "Table of Contents",
   "title_sidebar": "Contents",
   "toc_cell": false,
   "toc_position": {},
   "toc_section_display": true,
   "toc_window_display": false
  },
  "vscode": {
   "interpreter": {
    "hash": "31f2aee4e71d21fbe5cf8b01ff0e069b9275f58929596ceb00d14d90e3e16cd6"
   }
  }
 },
 "nbformat": 4,
 "nbformat_minor": 5
}
