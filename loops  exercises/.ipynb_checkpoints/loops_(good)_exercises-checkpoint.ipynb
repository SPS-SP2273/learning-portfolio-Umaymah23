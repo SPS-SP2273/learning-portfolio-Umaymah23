{
 "cells": [
  {
   "attachments": {},
   "cell_type": "markdown",
   "id": "123456",
   "metadata": {},
   "source": [
    "<div style=\"text-align:left;font-size:2em\"><span style=\"font-weight:bolder;font-size:1.25em\">SP2273 | Learning Portfolio</span><br><br><span style=\"font-weight:bold;color:darkred\">Loops (Good) Exercises</span></div>"
   ]
  },
  {
   "cell_type": "markdown",
   "id": "3f455071-6c4f-4230-bd39-d7a9dd1c376d",
   "metadata": {},
   "source": [
    "### Exercise 1"
   ]
  },
  {
   "cell_type": "code",
   "execution_count": 9,
   "id": "49ae8137-9983-465d-adc6-0130ab502324",
   "metadata": {},
   "outputs": [
    {
     "name": "stdout",
     "output_type": "stream",
     "text": [
      "1\n",
      "9\n",
      "25\n",
      "49\n",
      "81\n"
     ]
    }
   ],
   "source": [
    "for number in range (11):\n",
    "    if number%2 == 0:\n",
    "        continue\n",
    "    print (number**2)"
   ]
  },
  {
   "cell_type": "code",
   "execution_count": 10,
   "id": "8d36919b-2c40-408a-9a95-38232d25d748",
   "metadata": {},
   "outputs": [
    {
     "name": "stdout",
     "output_type": "stream",
     "text": [
      "0\n",
      "1\n",
      "4\n",
      "9\n",
      "16\n",
      "25\n",
      "36\n",
      "49\n",
      "64\n",
      "81\n",
      "100\n"
     ]
    }
   ],
   "source": [
    "for number in range (11):\n",
    "    print (number**2)\n",
    "    if number%2 == 1:\n",
    "        continue\n",
    "#For understanding purposes"
   ]
  },
  {
   "cell_type": "markdown",
   "id": "06bfe280-427a-409c-94cb-0df4677bf445",
   "metadata": {},
   "source": [
    "### Exercise 2"
   ]
  },
  {
   "cell_type": "code",
   "execution_count": 12,
   "id": "53e7e85a-d875-4948-9432-18630f5af0ef",
   "metadata": {},
   "outputs": [
    {
     "data": {
      "text/plain": [
       "[1, 9, 25, 49, 81]"
      ]
     },
     "execution_count": 12,
     "metadata": {},
     "output_type": "execute_result"
    }
   ],
   "source": [
    "[number**2 for number in range(11) if number % 2 ==1]"
   ]
  },
  {
   "cell_type": "markdown",
   "id": "5963dd90-cc94-40dd-893b-c052ea698daf",
   "metadata": {},
   "source": [
    "### Exercise 3"
   ]
  },
  {
   "cell_type": "code",
   "execution_count": 24,
   "id": "a79dd87f-8f08-4c6f-b746-b513be4cea19",
   "metadata": {},
   "outputs": [
    {
     "name": "stdout",
     "output_type": "stream",
     "text": [
      "2.08 µs ± 284 ns per loop (mean ± std. dev. of 7 runs, 100,000 loops each)\n"
     ]
    }
   ],
   "source": [
    "%%timeit \n",
    "for number in range (11):\n",
    "    if number%2 == 0:\n",
    "        continue"
   ]
  },
  {
   "cell_type": "code",
   "execution_count": 26,
   "id": "5ff87009-38e8-489b-b9e8-b6d9e5c199bf",
   "metadata": {},
   "outputs": [
    {
     "name": "stdout",
     "output_type": "stream",
     "text": [
      "2.92 µs ± 202 ns per loop (mean ± std. dev. of 7 runs, 100,000 loops each)\n"
     ]
    }
   ],
   "source": [
    "%timeit [number**2 for number in range(11) if number % 2 ==1]"
   ]
  },
  {
   "cell_type": "markdown",
   "id": "1fbf823f-8d8c-4f7d-a76c-5a3726de9a79",
   "metadata": {},
   "source": [
    "### Exercise 4"
   ]
  },
  {
   "cell_type": "code",
   "execution_count": 1,
   "id": "180cb8eb-06b7-48a5-8285-35ab0792099c",
   "metadata": {},
   "outputs": [],
   "source": [
    "x = 100"
   ]
  },
  {
   "cell_type": "code",
   "execution_count": 5,
   "id": "891ee718-362b-40ad-b155-ea1d52048806",
   "metadata": {},
   "outputs": [],
   "source": [
    "while x>0 and x<50:\n",
    "    y = 0.95*x"
   ]
  },
  {
   "cell_type": "code",
   "execution_count": 8,
   "id": "1114a16d-2604-470b-9736-45493ac877b5",
   "metadata": {},
   "outputs": [
    {
     "ename": "AttributeError",
     "evalue": "'float' object has no attribute 'count'",
     "output_type": "error",
     "traceback": [
      "\u001b[1;31m---------------------------------------------------------------------------\u001b[0m",
      "\u001b[1;31mAttributeError\u001b[0m                            Traceback (most recent call last)",
      "Cell \u001b[1;32mIn[8], line 1\u001b[0m\n\u001b[1;32m----> 1\u001b[0m \u001b[38;5;28mprint\u001b[39m(\u001b[43my\u001b[49m\u001b[38;5;241;43m.\u001b[39;49m\u001b[43mcount\u001b[49m())\n",
      "\u001b[1;31mAttributeError\u001b[0m: 'float' object has no attribute 'count'"
     ]
    }
   ],
   "source": [
    "print(y.count())"
   ]
  },
  {
   "cell_type": "code",
   "execution_count": 11,
   "id": "e10674ad-3f50-43b8-8cbb-b7ee3aa0178b",
   "metadata": {},
   "outputs": [
    {
     "name": "stdout",
     "output_type": "stream",
     "text": [
      "It will take 14 years for the sample to reduce to half its original amount.\n"
     ]
    }
   ],
   "source": [
    "initial_quantity = 100\n",
    "decay_rate = 0.05\n",
    "current_quantity = initial_quantity\n",
    "years = 0\n",
    "\n",
    "while current_quantity > initial_quantity / 2:\n",
    "    current_quantity -= current_quantity * decay_rate\n",
    "    years += 1\n",
    "\n",
    "print(\"It will take\", years, \"years for the sample to reduce to half its original amount.\")\n",
    "\n",
    "#Used chatGPT, won't lie!"
   ]
  },
  {
   "cell_type": "markdown",
   "id": "bbec357c-8c68-4730-8dbc-7b66f41230c0",
   "metadata": {},
   "source": [
    "### Exercise 5"
   ]
  },
  {
   "cell_type": "code",
   "execution_count": 12,
   "id": "532268cc-fc8d-4da7-8a61-07f0809121fd",
   "metadata": {},
   "outputs": [],
   "source": [
    "co2_data = [\n",
    "    (2000, 369.55), (2001, 371.14), (2002, 373.28), \n",
    "    (2003, 375.80), (2004, 377.52), (2005, 379.80), \n",
    "    (2006, 381.90), (2007, 383.79), (2008, 385.60), \n",
    "    (2009, 387.43), (2010, 389.90), (2011, 391.65), \n",
    "    (2012, 393.85), (2013, 396.52), (2014, 398.65),\n",
    "    (2015, 400.83), (2016, 404.24), (2017, 406.55), \n",
    "    (2018, 408.52), (2019, 411.44), (2020, 414.24)\n",
    "]"
   ]
  },
  {
   "cell_type": "code",
   "execution_count": 17,
   "id": "69d25edd-3048-41d8-9bb8-5891d69e1c8d",
   "metadata": {},
   "outputs": [
    {
     "name": "stdout",
     "output_type": "stream",
     "text": [
      "369.55\n",
      "371.14\n",
      "373.28\n",
      "375.8\n",
      "377.52\n",
      "379.8\n",
      "381.9\n",
      "383.79\n",
      "385.6\n",
      "387.43\n",
      "389.9\n",
      "391.65\n",
      "393.85\n",
      "396.52\n",
      "398.65\n",
      "400.83\n",
      "404.24\n",
      "406.55\n",
      "408.52\n",
      "411.44\n",
      "414.24\n"
     ]
    }
   ],
   "source": [
    "for list_a,list_b in co2_data:\n",
    "    print (list_b)"
   ]
  },
  {
   "cell_type": "code",
   "execution_count": 19,
   "id": "59392010-074c-4e89-9c3b-94f7b0a4105b",
   "metadata": {},
   "outputs": [
    {
     "ename": "SyntaxError",
     "evalue": "expected 'else' after 'if' expression (313561082.py, line 2)",
     "output_type": "error",
     "traceback": [
      "\u001b[1;36m  Cell \u001b[1;32mIn[19], line 2\u001b[1;36m\u001b[0m\n\u001b[1;33m    print(list_b\u001b[0m\n\u001b[1;37m          ^\u001b[0m\n\u001b[1;31mSyntaxError\u001b[0m\u001b[1;31m:\u001b[0m expected 'else' after 'if' expression\n"
     ]
    }
   ],
   "source": [
    "for list_b in co2_data:\n",
    "    print(list_b \n",
    "          if i - (i-1) = 3)\n",
    "    else print ('nothing')"
   ]
  }
 ],
 "metadata": {
  "kernelspec": {
   "display_name": "Python 3 (ipykernel)",
   "language": "python",
   "name": "python3"
  },
  "language_info": {
   "codemirror_mode": {
    "name": "ipython",
    "version": 3
   },
   "file_extension": ".py",
   "mimetype": "text/x-python",
   "name": "python",
   "nbconvert_exporter": "python",
   "pygments_lexer": "ipython3",
   "version": "3.11.5"
  },
  "toc": {
   "base_numbering": 1,
   "nav_menu": {},
   "number_sections": true,
   "sideBar": true,
   "skip_h1_title": false,
   "title_cell": "Table of Contents",
   "title_sidebar": "Contents",
   "toc_cell": false,
   "toc_position": {},
   "toc_section_display": true,
   "toc_window_display": false
  },
  "vscode": {
   "interpreter": {
    "hash": "31f2aee4e71d21fbe5cf8b01ff0e069b9275f58929596ceb00d14d90e3e16cd6"
   }
  }
 },
 "nbformat": 4,
 "nbformat_minor": 5
}
