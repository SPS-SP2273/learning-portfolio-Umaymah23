{
 "cells": [
  {
   "attachments": {},
   "cell_type": "markdown",
   "id": "123456",
   "metadata": {},
   "source": [
    "<div style=\"text-align:left;font-size:2em\"><span style=\"font-weight:bolder;font-size:1.25em\">SP2273 | Learning Portfolio</span><br><br><span style=\"font-weight:bold;color:darkred\">Functions (Good) Exercises</span></div>"
   ]
  },
  {
   "cell_type": "markdown",
   "id": "7e248559-763c-4c8c-b942-cc1ffc62aaaa",
   "metadata": {},
   "source": [
    "### Exercise 1"
   ]
  },
  {
   "cell_type": "code",
   "execution_count": 27,
   "id": "4d311234-cd8e-4869-be64-c6f8bd0f5bf4",
   "metadata": {},
   "outputs": [],
   "source": [
    "def convert_celsius(temperature_celsius, target_scale = 'Fahrenheit'):\n",
    "    if target_scale == 'Kelvin':\n",
    "        return temperature_celsius + 273, target_scale\n",
    "    else:\n",
    "        return (9/5*(temperature_celsius+32)), 'Fahrenheit'"
   ]
  },
  {
   "cell_type": "code",
   "execution_count": 28,
   "id": "b0939890-d71c-4f1b-96a1-42bc872cb0f8",
   "metadata": {},
   "outputs": [
    {
     "data": {
      "text/plain": [
       "(111.60000000000001, 'Fahrenheit')"
      ]
     },
     "execution_count": 28,
     "metadata": {},
     "output_type": "execute_result"
    }
   ],
   "source": [
    "convert_celsius(30)"
   ]
  },
  {
   "cell_type": "code",
   "execution_count": 13,
   "id": "bca4d365-67cf-4d84-9f51-8832709b1991",
   "metadata": {},
   "outputs": [
    {
     "data": {
      "text/plain": [
       "(296, 'Kelvin')"
      ]
     },
     "execution_count": 13,
     "metadata": {},
     "output_type": "execute_result"
    }
   ],
   "source": [
    "convert_celsius(23, 'Kelvin')"
   ]
  },
  {
   "cell_type": "markdown",
   "id": "0762e073-c22a-4faf-a2ed-923440ac4ca1",
   "metadata": {},
   "source": [
    "### Exercise 2"
   ]
  },
  {
   "cell_type": "code",
   "execution_count": 20,
   "id": "1caac25f-838d-42f1-810b-c9c0a1b2d362",
   "metadata": {},
   "outputs": [],
   "source": [
    "def convert_fahrenheit(temperature_fahrenheit, target_scale = 'Celsius'):\n",
    "    if target_scale == 'Kelvin':\n",
    "        return (5/9*(temperature_fahrenheit)+459), target_scale\n",
    "    else:\n",
    "        return (5/9*(temperature_fahrenheit-32)), 'Celsius'\n",
    "    "
   ]
  },
  {
   "cell_type": "code",
   "execution_count": 21,
   "id": "58ad3860-0c32-4b40-9632-d77618590258",
   "metadata": {},
   "outputs": [
    {
     "data": {
      "text/plain": [
       "(477.8888888888889, 'Kelvin')"
      ]
     },
     "execution_count": 21,
     "metadata": {},
     "output_type": "execute_result"
    }
   ],
   "source": [
    "convert_fahrenheit(34, 'Kelvin')"
   ]
  },
  {
   "cell_type": "code",
   "execution_count": 22,
   "id": "1e64ea21-9884-410f-a908-ae0e8a041564",
   "metadata": {},
   "outputs": [
    {
     "data": {
      "text/plain": [
       "(6.111111111111112, 'Celsius')"
      ]
     },
     "execution_count": 22,
     "metadata": {},
     "output_type": "execute_result"
    }
   ],
   "source": [
    "convert_fahrenheit(43)"
   ]
  },
  {
   "cell_type": "markdown",
   "id": "edce1503-9bad-4c8b-ae4a-08c21af29e11",
   "metadata": {},
   "source": [
    "### Exercise 3"
   ]
  },
  {
   "cell_type": "code",
   "execution_count": 23,
   "id": "de16bfb0-dd54-4fca-877a-5359e69b69c6",
   "metadata": {},
   "outputs": [],
   "source": [
    "def convert_temperature(temperature, source_scale, target_scale):\n",
    "    if source_scale == 'Celsius' and target_scale == 'Fahrenheit':\n",
    "        return (9/5*(temperature+32)), source_scale, target_scale\n",
    "    elif source_scale == 'Fahrenheit' and target_scale == 'Celsius':\n",
    "        return (5/9*(temperature-32)), source_scale, target_scale\n",
    "    elif source_scale == 'Celsius' and target_scale == 'Kelvin':\n",
    "        return (temperature+273), source_scale, target_scale\n",
    "    elif source_scale == 'Kelvin' and target_scale == 'Celsius':\n",
    "        return (temperature-273), source_scale, target_scale\n",
    "    elif source_scale == 'Fahrenheit' and target_scale == 'Kelvin':\n",
    "        return (5/9*(temperature)+459), source_scale, target_scale\n",
    "    elif source_scale == 'Kelvin' and target_scale == 'Fahrenheit':\n",
    "        return (9/5*(temperature-273)+32), source_scale, target_scale\n",
    "    else:\n",
    "        return 'Please enter valid input'"
   ]
  },
  {
   "cell_type": "code",
   "execution_count": 24,
   "id": "47b6215c-8aa1-4fda-aa19-b7eb50cb7b07",
   "metadata": {},
   "outputs": [
    {
     "data": {
      "text/plain": [
       "(57.6, 'Celsius', 'Fahrenheit')"
      ]
     },
     "execution_count": 24,
     "metadata": {},
     "output_type": "execute_result"
    }
   ],
   "source": [
    "convert_temperature(0, 'Celsius', 'Fahrenheit')"
   ]
  }
 ],
 "metadata": {
  "kernelspec": {
   "display_name": "Python 3 (ipykernel)",
   "language": "python",
   "name": "python3"
  },
  "language_info": {
   "codemirror_mode": {
    "name": "ipython",
    "version": 3
   },
   "file_extension": ".py",
   "mimetype": "text/x-python",
   "name": "python",
   "nbconvert_exporter": "python",
   "pygments_lexer": "ipython3",
   "version": "3.11.5"
  },
  "toc": {
   "base_numbering": 1,
   "nav_menu": {},
   "number_sections": true,
   "sideBar": true,
   "skip_h1_title": false,
   "title_cell": "Table of Contents",
   "title_sidebar": "Contents",
   "toc_cell": false,
   "toc_position": {},
   "toc_section_display": true,
   "toc_window_display": false
  },
  "vscode": {
   "interpreter": {
    "hash": "31f2aee4e71d21fbe5cf8b01ff0e069b9275f58929596ceb00d14d90e3e16cd6"
   }
  }
 },
 "nbformat": 4,
 "nbformat_minor": 5
}
