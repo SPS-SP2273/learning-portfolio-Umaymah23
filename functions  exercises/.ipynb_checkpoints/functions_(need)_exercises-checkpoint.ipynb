{
 "cells": [
  {
   "attachments": {},
   "cell_type": "markdown",
   "id": "123456",
   "metadata": {},
   "source": [
    "<div style=\"text-align:left;font-size:2em\"><span style=\"font-weight:bolder;font-size:1.25em\">SP2273 | Learning Portfolio</span><br><br><span style=\"font-weight:bold;color:darkred\">Functions (Need) Exercises</span></div>"
   ]
  },
  {
   "cell_type": "markdown",
   "id": "1f5ae126-3279-47f0-807b-1f38c27bed39",
   "metadata": {},
   "source": [
    "### Exercise 1"
   ]
  },
  {
   "cell_type": "code",
   "execution_count": 1,
   "id": "12f4b043-36c9-4fcd-bc74-08a5c61c7f7d",
   "metadata": {},
   "outputs": [],
   "source": [
    "def greeting(name):\n",
    "    if name == 'Batman':\n",
    "        return 'Hello Batman! So, nice to meet you!'\n",
    "    return f'Hello {name}!'"
   ]
  },
  {
   "cell_type": "code",
   "execution_count": 2,
   "id": "bdcacc71-8e17-42a8-af35-1c83725d07b8",
   "metadata": {},
   "outputs": [
    {
     "data": {
      "text/plain": [
       "'Hello Umaymah!'"
      ]
     },
     "execution_count": 2,
     "metadata": {},
     "output_type": "execute_result"
    }
   ],
   "source": [
    "greeting('Umaymah')"
   ]
  },
  {
   "cell_type": "markdown",
   "id": "e9c1d96f-f093-4793-ae06-7e9cff57a137",
   "metadata": {},
   "source": [
    "The code works because there are 2 return statements. One is indented under the 'if' statement, defining one condition, while the other is not indented under the 'if' statement, which means that if the condition is not achieved, the value returned for the function has to be something else.  "
   ]
  },
  {
   "cell_type": "markdown",
   "id": "d8417fbb-cd7f-423a-8c35-9c529f066820",
   "metadata": {},
   "source": [
    "### Exercise 2"
   ]
  },
  {
   "cell_type": "code",
   "execution_count": 5,
   "id": "dad1420a-21cd-4f40-8fbf-6b1847ab6564",
   "metadata": {},
   "outputs": [],
   "source": [
    "import numpy as np"
   ]
  },
  {
   "cell_type": "code",
   "execution_count": 7,
   "id": "5ea426c3-c293-43e5-9718-86e0e2c29f26",
   "metadata": {},
   "outputs": [],
   "source": [
    "weight = ()\n",
    "height = ()"
   ]
  },
  {
   "cell_type": "code",
   "execution_count": 11,
   "id": "4622b246-12c0-4640-bed8-f2e9e55e99fe",
   "metadata": {},
   "outputs": [
    {
     "ename": "SyntaxError",
     "evalue": "unterminated string literal (detected at line 15) (1542931720.py, line 15)",
     "output_type": "error",
     "traceback": [
      "\u001b[1;36m  Cell \u001b[1;32mIn[11], line 15\u001b[1;36m\u001b[0m\n\u001b[1;33m    print('Please enter valid input)\u001b[0m\n\u001b[1;37m          ^\u001b[0m\n\u001b[1;31mSyntaxError\u001b[0m\u001b[1;31m:\u001b[0m unterminated string literal (detected at line 15)\n"
     ]
    }
   ],
   "source": [
    "user_input = input('weight',\n",
    "                   'height')\n",
    "\n",
    "while weight>0 and weight<200 and height>0 and height<2:\n",
    "    calculate_bmi = weight/(height**2)\n",
    "    if calculate_bmi<18.5:\n",
    "        print('Underweight')\n",
    "    if calculate_bmi>=18.5 and calculate_bmi<=24.5:\n",
    "        print('Normal weight')\n",
    "    if calculate_bmi>=25 and calculate_bmi<=29.9:\n",
    "        print('Overweight')\n",
    "    if calculate_bmi>=30:\n",
    "        print('Obesity')\n",
    "    else:\n",
    "        print('Please enter valid input)\n"
   ]
  },
  {
   "cell_type": "code",
   "execution_count": 14,
   "id": "ffad8089-29ea-493b-9a00-b861cd180401",
   "metadata": {},
   "outputs": [
    {
     "ename": "NameError",
     "evalue": "name 'user_input' is not defined",
     "output_type": "error",
     "traceback": [
      "\u001b[1;31m---------------------------------------------------------------------------\u001b[0m",
      "\u001b[1;31mNameError\u001b[0m                                 Traceback (most recent call last)",
      "Cell \u001b[1;32mIn[14], line 1\u001b[0m\n\u001b[1;32m----> 1\u001b[0m a,b \u001b[38;5;241m=\u001b[39m \u001b[43muser_input\u001b[49m(\u001b[38;5;124m'\u001b[39m\u001b[38;5;124mEnter weight and height:\u001b[39m\u001b[38;5;124m'\u001b[39m)\n\u001b[0;32m      3\u001b[0m \u001b[38;5;28;01mdef\u001b[39;00m \u001b[38;5;21mcalculate_bmi\u001b[39m(weight,height):\n\u001b[0;32m      4\u001b[0m     bmi \u001b[38;5;241m=\u001b[39m weight\u001b[38;5;241m/\u001b[39m(height\u001b[38;5;241m*\u001b[39m\u001b[38;5;241m*\u001b[39m\u001b[38;5;241m2\u001b[39m)\n",
      "\u001b[1;31mNameError\u001b[0m: name 'user_input' is not defined"
     ]
    }
   ],
   "source": [
    "a,b = user_input('Enter weight and height:')\n",
    "\n",
    "def calculate_bmi(weight,height):\n",
    "    bmi = weight/(height**2)\n",
    "    if bmi<18.5:\n",
    "        print('Underweight')\n",
    "    elif bmi>=18.5 and bmi<=24.9:\n",
    "        print('Normal weight')\n",
    "    elif bmi>=25 and bmi<=29.9:\n",
    "        print('Overweight')\n",
    "    else:\n",
    "        print('Obesity')\n",
    "    "
   ]
  }
 ],
 "metadata": {
  "kernelspec": {
   "display_name": "Python 3 (ipykernel)",
   "language": "python",
   "name": "python3"
  },
  "language_info": {
   "codemirror_mode": {
    "name": "ipython",
    "version": 3
   },
   "file_extension": ".py",
   "mimetype": "text/x-python",
   "name": "python",
   "nbconvert_exporter": "python",
   "pygments_lexer": "ipython3",
   "version": "3.11.5"
  },
  "toc": {
   "base_numbering": 1,
   "nav_menu": {},
   "number_sections": true,
   "sideBar": true,
   "skip_h1_title": false,
   "title_cell": "Table of Contents",
   "title_sidebar": "Contents",
   "toc_cell": false,
   "toc_position": {},
   "toc_section_display": true,
   "toc_window_display": false
  },
  "vscode": {
   "interpreter": {
    "hash": "31f2aee4e71d21fbe5cf8b01ff0e069b9275f58929596ceb00d14d90e3e16cd6"
   }
  }
 },
 "nbformat": 4,
 "nbformat_minor": 5
}
